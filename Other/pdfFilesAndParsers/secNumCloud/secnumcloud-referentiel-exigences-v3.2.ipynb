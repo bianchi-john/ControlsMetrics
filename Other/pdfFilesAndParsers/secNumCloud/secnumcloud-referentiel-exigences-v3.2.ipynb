{
 "cells": [
  {
   "cell_type": "markdown",
   "id": "7cae6dd2",
   "metadata": {},
   "source": [
    "# Parse pdf"
   ]
  },
  {
   "cell_type": "code",
   "execution_count": 2,
   "id": "0d5f5114",
   "metadata": {},
   "outputs": [
    {
     "name": "stdout",
     "output_type": "stream",
     "text": [
      "Collecting pdfplumber\n",
      "  Downloading pdfplumber-0.11.6-py3-none-any.whl.metadata (42 kB)\n",
      "Collecting pdfminer.six==20250327 (from pdfplumber)\n",
      "  Downloading pdfminer_six-20250327-py3-none-any.whl.metadata (4.1 kB)\n",
      "Requirement already satisfied: Pillow>=9.1 in /home/john/Downloads/.venv/lib/python3.12/site-packages (from pdfplumber) (11.1.0)\n",
      "Collecting pypdfium2>=4.18.0 (from pdfplumber)\n",
      "  Downloading pypdfium2-4.30.1-py3-none-manylinux_2_17_x86_64.manylinux2014_x86_64.whl.metadata (48 kB)\n",
      "Requirement already satisfied: charset-normalizer>=2.0.0 in /home/john/Downloads/.venv/lib/python3.12/site-packages (from pdfminer.six==20250327->pdfplumber) (3.4.1)\n",
      "Collecting cryptography>=36.0.0 (from pdfminer.six==20250327->pdfplumber)\n",
      "  Downloading cryptography-44.0.3-cp39-abi3-manylinux_2_34_x86_64.whl.metadata (5.7 kB)\n",
      "Collecting cffi>=1.12 (from cryptography>=36.0.0->pdfminer.six==20250327->pdfplumber)\n",
      "  Downloading cffi-1.17.1-cp312-cp312-manylinux_2_17_x86_64.manylinux2014_x86_64.whl.metadata (1.5 kB)\n",
      "Collecting pycparser (from cffi>=1.12->cryptography>=36.0.0->pdfminer.six==20250327->pdfplumber)\n",
      "  Downloading pycparser-2.22-py3-none-any.whl.metadata (943 bytes)\n",
      "Downloading pdfplumber-0.11.6-py3-none-any.whl (60 kB)\n",
      "Downloading pdfminer_six-20250327-py3-none-any.whl (5.6 MB)\n",
      "\u001b[2K   \u001b[90m━━━━━━━━━━━━━━━━━━━━━━━━━━━━━━━━━━━━━━━━\u001b[0m \u001b[32m5.6/5.6 MB\u001b[0m \u001b[31m17.6 MB/s\u001b[0m eta \u001b[36m0:00:00\u001b[0ma \u001b[36m0:00:01\u001b[0m\n",
      "\u001b[?25hDownloading pypdfium2-4.30.1-py3-none-manylinux_2_17_x86_64.manylinux2014_x86_64.whl (2.9 MB)\n",
      "\u001b[2K   \u001b[90m━━━━━━━━━━━━━━━━━━━━━━━━━━━━━━━━━━━━━━━━\u001b[0m \u001b[32m2.9/2.9 MB\u001b[0m \u001b[31m26.8 MB/s\u001b[0m eta \u001b[36m0:00:00\u001b[0m\n",
      "\u001b[?25hDownloading cryptography-44.0.3-cp39-abi3-manylinux_2_34_x86_64.whl (4.2 MB)\n",
      "\u001b[2K   \u001b[90m━━━━━━━━━━━━━━━━━━━━━━━━━━━━━━━━━━━━━━━━\u001b[0m \u001b[32m4.2/4.2 MB\u001b[0m \u001b[31m31.0 MB/s\u001b[0m eta \u001b[36m0:00:00\u001b[0m\n",
      "\u001b[?25hDownloading cffi-1.17.1-cp312-cp312-manylinux_2_17_x86_64.manylinux2014_x86_64.whl (479 kB)\n",
      "Downloading pycparser-2.22-py3-none-any.whl (117 kB)\n",
      "Installing collected packages: pypdfium2, pycparser, cffi, cryptography, pdfminer.six, pdfplumber\n",
      "Successfully installed cffi-1.17.1 cryptography-44.0.3 pdfminer.six-20250327 pdfplumber-0.11.6 pycparser-2.22 pypdfium2-4.30.1\n",
      "\n",
      "\u001b[1m[\u001b[0m\u001b[34;49mnotice\u001b[0m\u001b[1;39;49m]\u001b[0m\u001b[39;49m A new release of pip is available: \u001b[0m\u001b[31;49m25.0.1\u001b[0m\u001b[39;49m -> \u001b[0m\u001b[32;49m25.1.1\u001b[0m\n",
      "\u001b[1m[\u001b[0m\u001b[34;49mnotice\u001b[0m\u001b[1;39;49m]\u001b[0m\u001b[39;49m To update, run: \u001b[0m\u001b[32;49mpip install --upgrade pip\u001b[0m\n"
     ]
    }
   ],
   "source": [
    "!pip install pdfplumber"
   ]
  },
  {
   "cell_type": "code",
   "execution_count": null,
   "id": "7e4d69ac",
   "metadata": {},
   "outputs": [],
   "source": [
    "import re\n",
    "import pdfplumber\n",
    "import csv\n",
    "\n",
    "# Regex patterns\n",
    "chapter_re = re.compile(r'^(\\d+)\\.\\s+(.+)$')  # e.g., \"5. Politiques...\"\n",
    "section_re = re.compile(r'^(\\d+\\.\\d+(?:\\.\\d+)*)\\.?\\s+(.+)$')  # e.g., \"5.3. Appréciation...\"\n",
    "control_re = re.compile(r'^([a-z])\\)\\s+(.+)$')  # e.g., \"a) Le prestataire...\"\n",
    "\n",
    "# Initialize tracking variables\n",
    "current_chapter = None\n",
    "current_section = None\n",
    "controls = []\n",
    "\n",
    "with pdfplumber.open('secnumcloud-referentiel-exigences-v3.2.pdf') as pdf:\n",
    "    for page in pdf.pages:\n",
    "        text = page.extract_text()\n",
    "        lines = text.split('\\n')\n",
    "        \n",
    "        for line in lines:\n",
    "            line = line.strip()\n",
    "            \n",
    "            # Match chapter headers (e.g., \"5. Politiques...\")\n",
    "            chapter_match = chapter_re.match(line)\n",
    "            if chapter_match:\n",
    "                current_chapter = chapter_match.group(1)\n",
    "                current_section = None  # Reset section on new chapter\n",
    "                continue\n",
    "            \n",
    "            # Match section headers (e.g., \"5.3. Appréciation...\")\n",
    "            section_match = section_re.match(line)\n",
    "            if section_match:\n",
    "                current_section = section_match.group(1)\n",
    "                continue\n",
    "            \n",
    "            # Match control items (e.g., \"a) Le prestataire...\")\n",
    "            control_match = control_re.match(line)\n",
    "            if control_match and current_section:\n",
    "                control_letter = control_match.group(1)\n",
    "                control_text = control_match.group(2)\n",
    "                control_id = f\"{current_section}.{control_letter}\"\n",
    "                controls.append({'ID': control_id, 'Description': control_text})\n",
    "            elif controls and current_section:\n",
    "                # Handle multi-line descriptions\n",
    "                last_control = controls[-1]\n",
    "                if not re.match(r'^[a-z]\\)', line):  # Append if not a new control\n",
    "                    last_control['Description'] += ' ' + line\n",
    "\n",
    "# Write to CSV\n",
    "with open('secnumcloud_controlsParsedFrance.csv', 'w', newline='', encoding='utf-8') as csvfile:\n",
    "    fieldnames = ['ID', 'Description']\n",
    "    writer = csv.DictWriter(csvfile, fieldnames=fieldnames)\n",
    "    writer.writeheader()\n",
    "    for control in controls:\n",
    "        writer.writerow(control)"
   ]
  },
  {
   "cell_type": "markdown",
   "id": "759f1751",
   "metadata": {},
   "source": [
    "# Translate in english"
   ]
  },
  {
   "cell_type": "code",
   "execution_count": 5,
   "id": "96525a2e",
   "metadata": {},
   "outputs": [
    {
     "name": "stdout",
     "output_type": "stream",
     "text": [
      "\u001b[33mWARNING: Retrying (Retry(total=4, connect=None, read=None, redirect=None, status=None)) after connection broken by 'ProtocolError('Connection aborted.', ConnectionResetError(104, 'Connection reset by peer'))': /simple/deep-translator/\u001b[0m\u001b[33m\n",
      "\u001b[0m\u001b[33mWARNING: Retrying (Retry(total=3, connect=None, read=None, redirect=None, status=None)) after connection broken by 'ProtocolError('Connection aborted.', ConnectionResetError(104, 'Connection reset by peer'))': /simple/deep-translator/\u001b[0m\u001b[33m\n",
      "\u001b[0m\u001b[33mWARNING: Retrying (Retry(total=2, connect=None, read=None, redirect=None, status=None)) after connection broken by 'ProtocolError('Connection aborted.', ConnectionResetError(104, 'Connection reset by peer'))': /simple/deep-translator/\u001b[0m\u001b[33m\n",
      "\u001b[0mCollecting deep_translator\n",
      "  Downloading deep_translator-1.11.4-py3-none-any.whl.metadata (30 kB)\n",
      "Requirement already satisfied: beautifulsoup4<5.0.0,>=4.9.1 in /home/john/Downloads/.venv/lib/python3.12/site-packages (from deep_translator) (4.13.3)\n",
      "Requirement already satisfied: requests<3.0.0,>=2.23.0 in /home/john/Downloads/.venv/lib/python3.12/site-packages (from deep_translator) (2.32.3)\n",
      "Requirement already satisfied: soupsieve>1.2 in /home/john/Downloads/.venv/lib/python3.12/site-packages (from beautifulsoup4<5.0.0,>=4.9.1->deep_translator) (2.6)\n",
      "Requirement already satisfied: typing-extensions>=4.0.0 in /home/john/Downloads/.venv/lib/python3.12/site-packages (from beautifulsoup4<5.0.0,>=4.9.1->deep_translator) (4.12.2)\n",
      "Requirement already satisfied: charset-normalizer<4,>=2 in /home/john/Downloads/.venv/lib/python3.12/site-packages (from requests<3.0.0,>=2.23.0->deep_translator) (3.4.1)\n",
      "Requirement already satisfied: idna<4,>=2.5 in /home/john/Downloads/.venv/lib/python3.12/site-packages (from requests<3.0.0,>=2.23.0->deep_translator) (3.10)\n",
      "Requirement already satisfied: urllib3<3,>=1.21.1 in /home/john/Downloads/.venv/lib/python3.12/site-packages (from requests<3.0.0,>=2.23.0->deep_translator) (2.3.0)\n",
      "Requirement already satisfied: certifi>=2017.4.17 in /home/john/Downloads/.venv/lib/python3.12/site-packages (from requests<3.0.0,>=2.23.0->deep_translator) (2025.1.31)\n",
      "Downloading deep_translator-1.11.4-py3-none-any.whl (42 kB)\n",
      "Installing collected packages: deep_translator\n",
      "Successfully installed deep_translator-1.11.4\n",
      "\n",
      "\u001b[1m[\u001b[0m\u001b[34;49mnotice\u001b[0m\u001b[1;39;49m]\u001b[0m\u001b[39;49m A new release of pip is available: \u001b[0m\u001b[31;49m25.0.1\u001b[0m\u001b[39;49m -> \u001b[0m\u001b[32;49m25.1.1\u001b[0m\n",
      "\u001b[1m[\u001b[0m\u001b[34;49mnotice\u001b[0m\u001b[1;39;49m]\u001b[0m\u001b[39;49m To update, run: \u001b[0m\u001b[32;49mpip install --upgrade pip\u001b[0m\n"
     ]
    }
   ],
   "source": [
    "!pip install deep_translator"
   ]
  },
  {
   "cell_type": "code",
   "execution_count": 6,
   "id": "7acba004",
   "metadata": {},
   "outputs": [
    {
     "name": "stdout",
     "output_type": "stream",
     "text": [
      "Starting translation of column 'Description' using Google Translate via deep-translator...\n",
      "Error translating 'Le prestataire doit informer formellement le comma...': Le prestataire doit informer formellement le commanditaire, et dans un délai d'un mois, de tout changement juridique, organisationnel ou technique pouvant avoir un impact sur la conformité de la prestation aux exigences du chapitre 19.6. Prestataires de services d'informatique en nuage (SecNumCloud) - référentiel d'exigences Version Date Critère de diffusion Page Annexe 1 Références documentaires I. Codes, textes législatifs et réglementaires Renvoi Document Loi du 6 janvier 1978 relative à l'informatique, aux fichiers et aux libertés. [LOI_IL] Disponible sur http://www.legifrance.gouv.fr Règlement (UE) 2016/679 du parlement européen et du conseil du 27 avril 2016 relatif à la protection des personnes physiques à l'égard du traitement [RGPD] des données à caractère personnel et à la libre circulation de ces données. Disponible sur https://eur-lex.europa.eu Article 334-1 du Code pénal relatif à l'abus de confiance. [CP_ART_314-1] Disponible sur http://www.legifrance.gouv.fr Article 226-1 du Code pénal relatif à l'atteinte à la vie privée. [CP_ART_226-1] Disponible sur http://www.legifrance.gouv.fr Article 226-13 du Code pénal relatif au secret professionnel. [CP_ART_226-13] Disponible sur http://www.legifrance.gouv.fr Article 226-15 du Code pénal relatif au secret des correspondances. [CP_ART_226-15] Disponible sur http://www.legifrance.gouv.fr Article 323-1 du Code pénal relatif à l'accès ou au maintien frauduleux dans [CP_ART_323-1] un système de traitement automatisé de données. Disponible sur http://www.legifrance.gouv.fr Instruction générale interministérielle n° 1300/SGDSN/PSE/PSD du 9 août [IGI_1300] 2021 sur la protection du secret de la défense nationale. Disponible sur http://www.legifrance.gouv.fr Instruction interministérielle relative aux articles contrôlés de la sécurité des [II_910] systèmes d'information (ACSSI), n°910/SGDSN/ANSSI, 22 octobre 2013. Disponible sur http://www.legifrance.gouv.fr Politique de sécurité des systèmes d'information de l'État (PSSIE), portée par [PSSIE] la circulaire du Premier ministre n°5725/SG du 17 juillet 2014. Disponible sur http://www.legifrance.gouv.fr II. Normes et documents techniques Renvoi Document Recommandations relatives à l'authentification multifacteur et aux mots de [AUTHENTIFICATION] passe, Guide ANSSI n° ANSSI-PG-078 du 08 février 2021, ANSSI. Disponibles sur http://www.ssi.gouv.fr Règles et recommandations concernant le choix et le dimensionnement des [CRYPTO_B1] mécanismes cryptographiques, ANSSI, version en vigueur. Disponible sur http://www.ssi.gouv.fr Règles et recommandations concernant la gestion des clés utilisées dans des [CRYPTO_B2] mécanismes cryptographiques, ANSSI, version en vigueur. Disponible sur http://www.ssi.gouv.fr L'homologation de sécurité en neuf étapes simples, ANSSI, version en [HOMOLOGATION] vigueur. Disponible sur http://www.ssi.gouv.fr Guide d'Hygiène Informatique, ANSSI, version en vigueur. [HYGIENE] Disponible sur http://www.ssi.gouv.fr Recommandations relatives à l'interconnexion d'un système d'information à [INTERNET] Internet, Guide ANSSI n° ANSSI-PA-066 du 19 juin 2020, ANSSI. Disponible sur http://www.ssi.gouv.fr Prestataires de services d'informatique en nuage (SecNumCloud) - référentiel d'exigences Version Date Critère de diffusion Page Renvoi Document Recommandations de sécurité relatives à IPsec, note technique n° DAT-NT- [NT_IPSEC] 003/ANSSI/SDE/NP du 3 août 2015, ANSSI. Disponible sur http://www.ssi.gouv.fr Recommandations de sécurité relatives à TLS, note technique [NT_TLS] n° SDE-NT-35/ANSSI/SDE/NP du 19 août 2016, ANSSI. Disponible sur http://www.ssi.gouv.fr Recommandations pour un usage sécurisé d'(Open)SSH, note technique n° [NT_SSH] DAT-NT-007/ANSSI/SDE/NP du 17 août 2015, ANSSI. Disponible sur http://www.ssi.gouv.fr Recommandations de sécurité pour la mise en œuvre d'un système de journalisation, note technique n° DAT-NT-012/ANSSI/SDE/NP du 2 [NT_JOURNAL] décembre 2013, ANSSI. Disponible sur http://www.ssi.gouv.fr Recommandations relatives à l'administration sécurisée des systèmes [NT_ADMIN] d'information, Guide ANSSI n° ANSSI-PA-022 du 11 mai 2021, ANSSI Disponible sur http://www.ssi.gouv.fr Recommandations relatives à l'authentification multifacteur et aux mots de [G_AUTH] passe, Guide ANSSI n° ANSSI-PG-078 du 8 octobre 2021, ANSSI Disponible sur http://www.ssi.gouv.fr Recommandations sur la sécurisation des systèmes de contrôle d'accès physique et de vidéoprotection, Guide ANSSI n° ANSSI-PA-72 du 04 mars [G_CVAP] 2020, ANSSI Disponible sur http://www.ssi.gouv.fr Guide de l'externalisation, Guide ANSSI du 03 décembre 2010, ANSSI [G_EXT] Disponible sur http://www.ssi.gouv.fr Recommandations relatives à l'interconnexion d'un système d'information [G_INT] sur Internet, Guide ANSSI n°ANSSI-PA-066 du 16 juin 2020, ANSSI Disponible sur http://www.ssi.gouv.fr Référentiel d'exigences applicables à un prestataire d'audit de la sécurité des [PASSI] systèmes d'information, ANSSI, version en vigueur Disponible sur http://www.ssi.gouv.fr Référentiel d'exigences applicables à un prestataire de détection des incidents [PDIS] de sécurité, ANSSI, version en vigueur Disponible sur http://www.ssi.gouv.fr Référentiel d'exigences applicables à un prestataire de réponse aux incidents [PRIS] de sécurité, ANSSI, version en vigueur Disponible sur http://www.ssi.gouv.fr Norme internationale ISO/IEC 27001:2013 : Technologies de l'information - Techniques de sécurité - Systèmes de management de la sécurité de [ISO27001] l'information - Exigences. Disponible sur http://www.iso.org III. Autres références documentaires Renvoi Document Processus de qualification d'un service, version en vigueur. [PROCESS_QUALIF] Disponible sur http://www.ssi.gouv.fr Guide d'achat de produits de sécurité et de services de confiance qualifiés, [GUIDE_ACHAT] version en vigueur. Disponible sur http://www.ssi.gouv.fr Prestataires de services d'informatique en nuage (SecNumCloud) - référentiel d'exigences Version Date Critère de diffusion Page Renvoi Document Recommandations pour les entreprises qui envisagent de souscrire à des services de cloud computing. [GUIDE_CNIL] Disponible sur https://www.cnil.fr/fr/cloud-computing-les-conseils-de-la- cnil-pour-les-entreprises-qui-utilisent-ces-nouveaux-services Prestataires de services d'informatique en nuage (SecNumCloud) - référentiel d'exigences Version Date Critère de diffusion Page Annexe 2 Recommandations aux commanditaires Cette annexe liste les recommandations de l'ANSSI aux commanditaires de prestations d'informatique en nuage. --> Text length need to be between 0 and 5000 characters\n",
      "Translation complete. Saved to 'secnumcloud_controlsParsedAndTranslatedEnglish.csv'\n"
     ]
    }
   ],
   "source": [
    "import pandas as pd\n",
    "from deep_translator import GoogleTranslator\n",
    "\n",
    "# --- Configuration ---\n",
    "INPUT_CSV_FILE = 'secnumcloud_controlsParsedFrance.csv'\n",
    "OUTPUT_CSV_FILE = 'secnumcloud_controlsParsedAndTranslatedEnglish.csv'\n",
    "COLUMN_TO_TRANSLATE = 'Description'\n",
    "NEW_COLUMN_NAME = 'Description_EN'\n",
    "SOURCE_LANG = 'fr'\n",
    "TARGET_LANG = 'en'\n",
    "\n",
    "# --- Translation Function ---\n",
    "def translate_with_google(text):\n",
    "    if pd.isna(text) or not str(text).strip():\n",
    "        return text\n",
    "    try:\n",
    "        # You can also instantiate the translator outside for slight efficiency\n",
    "        # translator = GoogleTranslator(source=SOURCE_LANG, target=TARGET_LANG)\n",
    "        # return translator.translate(str(text))\n",
    "        return GoogleTranslator(source=SOURCE_LANG, target=TARGET_LANG).translate(str(text))\n",
    "    except Exception as e:\n",
    "        print(f\"Error translating '{str(text)[:50]}...': {e}\")\n",
    "        return str(text) # Return original text on error\n",
    "\n",
    "# --- Main Script ---\n",
    "try:\n",
    "    df = pd.read_csv(INPUT_CSV_FILE)\n",
    "except FileNotFoundError:\n",
    "    print(f\"Error: '{INPUT_CSV_FILE}' not found.\")\n",
    "    exit()\n",
    "\n",
    "if COLUMN_TO_TRANSLATE not in df.columns:\n",
    "    print(f\"Error: Column '{COLUMN_TO_TRANSLATE}' not found in the CSV.\")\n",
    "    exit()\n",
    "\n",
    "print(f\"Starting translation of column '{COLUMN_TO_TRANSLATE}' using Google Translate via deep-translator...\")\n",
    "\n",
    "# Apply translation\n",
    "# For very large datasets, translating text by text can be slow.\n",
    "# deep-translator can translate a list of texts (batch):\n",
    "# texts_to_translate = df[COLUMN_TO_TRANSLATE].astype(str).fillna('').tolist()\n",
    "# # Filter out empty strings if necessary, or handle them if the API does\n",
    "# valid_texts = [text for text in texts_to_translate if text.strip()]\n",
    "# if valid_texts:\n",
    "#    translator = GoogleTranslator(source=SOURCE_LANG, target=TARGET_LANG)\n",
    "#    translated_batch = translator.translate_batch(valid_texts)\n",
    "#    # Now you need to map these back carefully to the DataFrame,\n",
    "#    # handling NaNs and empty strings that were skipped.\n",
    "# else:\n",
    "#    translated_batch = []\n",
    "# For simplicity, applying row by row here:\n",
    "df[NEW_COLUMN_NAME] = df[COLUMN_TO_TRANSLATE].apply(translate_with_google)\n",
    "\n",
    "df.to_csv(OUTPUT_CSV_FILE, index=False)\n",
    "print(f\"Translation complete. Saved to '{OUTPUT_CSV_FILE}'\")"
   ]
  }
 ],
 "metadata": {
  "kernelspec": {
   "display_name": ".venv",
   "language": "python",
   "name": "python3"
  },
  "language_info": {
   "codemirror_mode": {
    "name": "ipython",
    "version": 3
   },
   "file_extension": ".py",
   "mimetype": "text/x-python",
   "name": "python",
   "nbconvert_exporter": "python",
   "pygments_lexer": "ipython3",
   "version": "3.12.3"
  }
 },
 "nbformat": 4,
 "nbformat_minor": 5
}
