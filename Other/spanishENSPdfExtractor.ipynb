{
 "cells": [
  {
   "cell_type": "code",
   "execution_count": 2,
   "id": "6d860bfd",
   "metadata": {},
   "outputs": [
    {
     "name": "stdout",
     "output_type": "stream",
     "text": [
      "Collecting PyPDF2\n",
      "  Downloading pypdf2-3.0.1-py3-none-any.whl.metadata (6.8 kB)\n",
      "Downloading pypdf2-3.0.1-py3-none-any.whl (232 kB)\n",
      "Installing collected packages: PyPDF2\n",
      "Successfully installed PyPDF2-3.0.1\n",
      "\n",
      "\u001b[1m[\u001b[0m\u001b[34;49mnotice\u001b[0m\u001b[1;39;49m]\u001b[0m\u001b[39;49m A new release of pip is available: \u001b[0m\u001b[31;49m25.0.1\u001b[0m\u001b[39;49m -> \u001b[0m\u001b[32;49m25.1.1\u001b[0m\n",
      "\u001b[1m[\u001b[0m\u001b[34;49mnotice\u001b[0m\u001b[1;39;49m]\u001b[0m\u001b[39;49m To update, run: \u001b[0m\u001b[32;49mpip install --upgrade pip\u001b[0m\n"
     ]
    }
   ],
   "source": [
    "!pip install PyPDF2"
   ]
  },
  {
   "cell_type": "code",
   "execution_count": 3,
   "id": "b91ce9ce",
   "metadata": {},
   "outputs": [
    {
     "name": "stdout",
     "output_type": "stream",
     "text": [
      "Extraction complete. Data saved to control_data.csv\n"
     ]
    }
   ],
   "source": [
    "import PyPDF2\n",
    "import re\n",
    "import csv\n",
    "\n",
    "def extract_control_data(pdf_path):\n",
    "    \"\"\"\n",
    "    Extracts control IDs and descriptions from a PDF and returns them as a list of dictionaries.\n",
    "\n",
    "    Args:\n",
    "        pdf_path (str): The path to the PDF file.\n",
    "\n",
    "    Returns:\n",
    "        list: A list of dictionaries, where each dictionary contains 'Control ID' and 'Description'.\n",
    "    \"\"\"\n",
    "\n",
    "    controls_data = []\n",
    "    with open(pdf_path, 'rb') as file:\n",
    "        reader = PyPDF2.PdfReader(file)\n",
    "        for page_num in range(len(reader.pages)):\n",
    "            page = reader.pages[page_num]\n",
    "            text = page.extract_text()\n",
    "            if text:\n",
    "                # The following pattern should capture the control ID and its description\n",
    "                # You may need to adjust this regex based on the PDF's specific formatting\n",
    "                matches = re.findall(r'\\[([a-z]+\\.(?:[a-z]+\\.)?\\d+(?:\\.\\d+)*)\\]\\s+([\\w\\s\\S]*?)(?=\\[\\w+\\.|\\Z)', text)\n",
    "                for control_id, description in matches:\n",
    "                    controls_data.append({'Control ID': control_id.strip(), 'Description': description.strip()})\n",
    "    return controls_data\n",
    "\n",
    "def save_to_csv(data, csv_path):\n",
    "    \"\"\"\n",
    "    Saves the extracted control data to a CSV file.\n",
    "\n",
    "    Args:\n",
    "        data (list): A list of dictionaries containing control data.\n",
    "        csv_path (str): The path to save the CSV file.\n",
    "    \"\"\"\n",
    "\n",
    "    with open(csv_path, 'w', newline='', encoding='utf-8') as csvfile:\n",
    "        fieldnames = ['Control ID', 'Description']\n",
    "        writer = csv.DictWriter(csvfile, fieldnames=fieldnames)\n",
    "\n",
    "        writer.writeheader()\n",
    "        for row in data:\n",
    "            writer.writerow(row)\n",
    "\n",
    "if __name__ == \"__main__\":\n",
    "    pdf_path = 'RD_311-2022_of-3_May_ENS.pdf'  # Replace with your PDF file path\n",
    "    csv_path = 'control_data.csv'\n",
    "\n",
    "    controls_data = extract_control_data(pdf_path)\n",
    "    save_to_csv(controls_data, csv_path)\n",
    "\n",
    "    print(f\"Extraction complete. Data saved to {csv_path}\")"
   ]
  },
  {
   "cell_type": "code",
   "execution_count": null,
   "id": "285369e8",
   "metadata": {},
   "outputs": [],
   "source": []
  }
 ],
 "metadata": {
  "kernelspec": {
   "display_name": ".venv",
   "language": "python",
   "name": "python3"
  },
  "language_info": {
   "codemirror_mode": {
    "name": "ipython",
    "version": 3
   },
   "file_extension": ".py",
   "mimetype": "text/x-python",
   "name": "python",
   "nbconvert_exporter": "python",
   "pygments_lexer": "ipython3",
   "version": "3.12.3"
  }
 },
 "nbformat": 4,
 "nbformat_minor": 5
}
