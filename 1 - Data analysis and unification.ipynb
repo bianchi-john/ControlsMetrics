{
 "cells": [
  {
   "cell_type": "markdown",
   "id": "aa0cbd1d",
   "metadata": {},
   "source": [
    "# Import data"
   ]
  },
  {
   "cell_type": "code",
   "execution_count": 31,
   "id": "069af6af",
   "metadata": {},
   "outputs": [],
   "source": [
    "import pandas as pd\n",
    "\n",
    "apiControls= pd.read_json('Schemes/apiControls.json')\n",
    "cisco = pd.read_csv('Schemes/Cisco.csv')\n",
    "medinaEucs = pd.read_csv('Schemes/MEDINA_EUCS_ControlsMapping_Clean.csv')\n",
    "spanishEns = pd.read_csv('Schemes/SpanishENS.csv')\n",
    "secNumCloud = pd.read_csv('Schemes/secnumcloud_controlsParsedAndTranslatedEnglish.csv')"
   ]
  },
  {
   "cell_type": "markdown",
   "id": "f55dd531",
   "metadata": {},
   "source": [
    "# Analizing relations"
   ]
  },
  {
   "cell_type": "code",
   "execution_count": 32,
   "id": "8c104d9c",
   "metadata": {},
   "outputs": [
    {
     "data": {
      "application/vnd.plotly.v1+json": {
       "config": {
        "plotlyServerURL": "https://plot.ly"
       },
       "data": [
        {
         "hoverinfo": "none",
         "line": {
          "color": "#888",
          "width": 0.5
         },
         "mode": "lines",
         "type": "scatter",
         "x": [
          0.2272846998550688,
          -0.5215168104253688,
          null,
          0.2272846998550688,
          1.3273595900400184,
          null,
          0.2272846998550688,
          -1.201925530425741,
          null,
          0.2272846998550688,
          -0.5215168104253688,
          null,
          -0.1621292744432073,
          0.2272846998550688,
          null,
          -0.1621292744432073,
          -0.5215168104253688,
          null,
          -0.5215168104253688,
          -1.201925530425741,
          null
         ],
         "y": [
          -0.3070183942783902,
          0.14701051652188782,
          null,
          -0.3070183942783902,
          0.1180340783721539,
          null,
          -0.3070183942783902,
          -0.3414609423128327,
          null,
          -0.3070183942783902,
          0.14701051652188782,
          null,
          -1.2252592687108932,
          -0.3070183942783902,
          null,
          -1.2252592687108932,
          0.14701051652188782,
          null,
          0.14701051652188782,
          -0.3414609423128327,
          null
         ]
        },
        {
         "hoverinfo": "text",
         "marker": {
          "color": "#FFDDC1",
          "line": {
           "color": "black",
           "width": 1.5
          },
          "showscale": false,
          "size": 25
         },
         "mode": "markers+text",
         "text": [
          "apiControls",
          "cisco",
          "medinaEucs",
          "secNumCloud",
          "spanishEns"
         ],
         "textfont": {
          "size": 14
         },
         "textposition": "bottom center",
         "type": "scatter",
         "x": [
          -0.1621292744432073,
          0.2272846998550688,
          -0.5215168104253688,
          -1.201925530425741,
          1.3273595900400184
         ],
         "y": [
          -1.2252592687108932,
          -0.3070183942783902,
          0.14701051652188782,
          -0.3414609423128327,
          0.1180340783721539
         ]
        },
        {
         "mode": "text",
         "showlegend": false,
         "text": "<b>EUCS Control Codes</b>",
         "textfont": {
          "color": "gray",
          "size": 12
         },
         "textposition": "middle center",
         "type": "scatter",
         "x": [
          -0.14711605528514998
         ],
         "y": [
          -0.0800039388782512
         ]
        },
        {
         "mode": "text",
         "showlegend": false,
         "text": "<b>Spanish ENS High Control</b>",
         "textfont": {
          "color": "gray",
          "size": 12
         },
         "textposition": "middle center",
         "type": "scatter",
         "x": [
          0.7773221449475436
         ],
         "y": [
          -0.09449215795311816
         ]
        },
        {
         "mode": "text",
         "showlegend": false,
         "text": "<b>SecNumCloud Control</b>",
         "textfont": {
          "color": "gray",
          "size": 12
         },
         "textposition": "middle center",
         "type": "scatter",
         "x": [
          -0.4873204152853361
         ],
         "y": [
          -0.32423966829561146
         ]
        },
        {
         "mode": "text",
         "showlegend": false,
         "text": "<b>EUCS Basic Control</b>",
         "textfont": {
          "color": "gray",
          "size": 12
         },
         "textposition": "middle center",
         "type": "scatter",
         "x": [
          -0.14711605528514998
         ],
         "y": [
          -0.0800039388782512
         ]
        },
        {
         "mode": "text",
         "showlegend": false,
         "text": "<b>Control Names/IDs</b>",
         "textfont": {
          "color": "gray",
          "size": 12
         },
         "textposition": "middle center",
         "type": "scatter",
         "x": [
          0.03257771270593075
         ],
         "y": [
          -0.7661388314946417
         ]
        },
        {
         "mode": "text",
         "showlegend": false,
         "text": "<b>code</b>",
         "textfont": {
          "color": "gray",
          "size": 12
         },
         "textposition": "middle center",
         "type": "scatter",
         "x": [
          -0.34182304243428807
         ],
         "y": [
          -0.5391243760945027
         ]
        },
        {
         "mode": "text",
         "showlegend": false,
         "text": "<b>SecNumCloud FRANCE</b>",
         "textfont": {
          "color": "gray",
          "size": 12
         },
         "textposition": "middle center",
         "type": "scatter",
         "x": [
          -0.861721170425555
         ],
         "y": [
          -0.09722521289547244
         ]
        }
       ],
       "layout": {
        "annotations": [
         {
          "arrowcolor": "#888",
          "arrowhead": 2,
          "arrowsize": 1,
          "arrowwidth": 1,
          "ax": 0.2272846998550688,
          "axref": "x",
          "ay": -0.3070183942783902,
          "ayref": "y",
          "showarrow": true,
          "x": -0.5215168104253688,
          "xref": "x",
          "y": 0.14701051652188782,
          "yref": "y"
         },
         {
          "arrowcolor": "#888",
          "arrowhead": 2,
          "arrowsize": 1,
          "arrowwidth": 1,
          "ax": 0.2272846998550688,
          "axref": "x",
          "ay": -0.3070183942783902,
          "ayref": "y",
          "showarrow": true,
          "x": 1.3273595900400184,
          "xref": "x",
          "y": 0.1180340783721539,
          "yref": "y"
         },
         {
          "arrowcolor": "#888",
          "arrowhead": 2,
          "arrowsize": 1,
          "arrowwidth": 1,
          "ax": 0.2272846998550688,
          "axref": "x",
          "ay": -0.3070183942783902,
          "ayref": "y",
          "showarrow": true,
          "x": -1.201925530425741,
          "xref": "x",
          "y": -0.3414609423128327,
          "yref": "y"
         },
         {
          "arrowcolor": "#888",
          "arrowhead": 2,
          "arrowsize": 1,
          "arrowwidth": 1,
          "ax": 0.2272846998550688,
          "axref": "x",
          "ay": -0.3070183942783902,
          "ayref": "y",
          "showarrow": true,
          "x": -0.5215168104253688,
          "xref": "x",
          "y": 0.14701051652188782,
          "yref": "y"
         },
         {
          "arrowcolor": "#888",
          "arrowhead": 2,
          "arrowsize": 1,
          "arrowwidth": 1,
          "ax": -0.1621292744432073,
          "axref": "x",
          "ay": -1.2252592687108932,
          "ayref": "y",
          "showarrow": true,
          "x": 0.2272846998550688,
          "xref": "x",
          "y": -0.3070183942783902,
          "yref": "y"
         },
         {
          "arrowcolor": "#888",
          "arrowhead": 2,
          "arrowsize": 1,
          "arrowwidth": 1,
          "ax": -0.1621292744432073,
          "axref": "x",
          "ay": -1.2252592687108932,
          "ayref": "y",
          "showarrow": true,
          "x": -0.5215168104253688,
          "xref": "x",
          "y": 0.14701051652188782,
          "yref": "y"
         },
         {
          "arrowcolor": "#888",
          "arrowhead": 2,
          "arrowsize": 1,
          "arrowwidth": 1,
          "ax": -0.5215168104253688,
          "axref": "x",
          "ay": 0.14701051652188782,
          "ayref": "y",
          "showarrow": true,
          "x": -1.201925530425741,
          "xref": "x",
          "y": -0.3414609423128327,
          "yref": "y"
         }
        ],
        "hovermode": "closest",
        "margin": {
         "b": 20,
         "l": 5,
         "r": 5,
         "t": 40
        },
        "showlegend": false,
        "template": {
         "data": {
          "bar": [
           {
            "error_x": {
             "color": "#2a3f5f"
            },
            "error_y": {
             "color": "#2a3f5f"
            },
            "marker": {
             "line": {
              "color": "#E5ECF6",
              "width": 0.5
             },
             "pattern": {
              "fillmode": "overlay",
              "size": 10,
              "solidity": 0.2
             }
            },
            "type": "bar"
           }
          ],
          "barpolar": [
           {
            "marker": {
             "line": {
              "color": "#E5ECF6",
              "width": 0.5
             },
             "pattern": {
              "fillmode": "overlay",
              "size": 10,
              "solidity": 0.2
             }
            },
            "type": "barpolar"
           }
          ],
          "carpet": [
           {
            "aaxis": {
             "endlinecolor": "#2a3f5f",
             "gridcolor": "white",
             "linecolor": "white",
             "minorgridcolor": "white",
             "startlinecolor": "#2a3f5f"
            },
            "baxis": {
             "endlinecolor": "#2a3f5f",
             "gridcolor": "white",
             "linecolor": "white",
             "minorgridcolor": "white",
             "startlinecolor": "#2a3f5f"
            },
            "type": "carpet"
           }
          ],
          "choropleth": [
           {
            "colorbar": {
             "outlinewidth": 0,
             "ticks": ""
            },
            "type": "choropleth"
           }
          ],
          "contour": [
           {
            "colorbar": {
             "outlinewidth": 0,
             "ticks": ""
            },
            "colorscale": [
             [
              0,
              "#0d0887"
             ],
             [
              0.1111111111111111,
              "#46039f"
             ],
             [
              0.2222222222222222,
              "#7201a8"
             ],
             [
              0.3333333333333333,
              "#9c179e"
             ],
             [
              0.4444444444444444,
              "#bd3786"
             ],
             [
              0.5555555555555556,
              "#d8576b"
             ],
             [
              0.6666666666666666,
              "#ed7953"
             ],
             [
              0.7777777777777778,
              "#fb9f3a"
             ],
             [
              0.8888888888888888,
              "#fdca26"
             ],
             [
              1,
              "#f0f921"
             ]
            ],
            "type": "contour"
           }
          ],
          "contourcarpet": [
           {
            "colorbar": {
             "outlinewidth": 0,
             "ticks": ""
            },
            "type": "contourcarpet"
           }
          ],
          "heatmap": [
           {
            "colorbar": {
             "outlinewidth": 0,
             "ticks": ""
            },
            "colorscale": [
             [
              0,
              "#0d0887"
             ],
             [
              0.1111111111111111,
              "#46039f"
             ],
             [
              0.2222222222222222,
              "#7201a8"
             ],
             [
              0.3333333333333333,
              "#9c179e"
             ],
             [
              0.4444444444444444,
              "#bd3786"
             ],
             [
              0.5555555555555556,
              "#d8576b"
             ],
             [
              0.6666666666666666,
              "#ed7953"
             ],
             [
              0.7777777777777778,
              "#fb9f3a"
             ],
             [
              0.8888888888888888,
              "#fdca26"
             ],
             [
              1,
              "#f0f921"
             ]
            ],
            "type": "heatmap"
           }
          ],
          "histogram": [
           {
            "marker": {
             "pattern": {
              "fillmode": "overlay",
              "size": 10,
              "solidity": 0.2
             }
            },
            "type": "histogram"
           }
          ],
          "histogram2d": [
           {
            "colorbar": {
             "outlinewidth": 0,
             "ticks": ""
            },
            "colorscale": [
             [
              0,
              "#0d0887"
             ],
             [
              0.1111111111111111,
              "#46039f"
             ],
             [
              0.2222222222222222,
              "#7201a8"
             ],
             [
              0.3333333333333333,
              "#9c179e"
             ],
             [
              0.4444444444444444,
              "#bd3786"
             ],
             [
              0.5555555555555556,
              "#d8576b"
             ],
             [
              0.6666666666666666,
              "#ed7953"
             ],
             [
              0.7777777777777778,
              "#fb9f3a"
             ],
             [
              0.8888888888888888,
              "#fdca26"
             ],
             [
              1,
              "#f0f921"
             ]
            ],
            "type": "histogram2d"
           }
          ],
          "histogram2dcontour": [
           {
            "colorbar": {
             "outlinewidth": 0,
             "ticks": ""
            },
            "colorscale": [
             [
              0,
              "#0d0887"
             ],
             [
              0.1111111111111111,
              "#46039f"
             ],
             [
              0.2222222222222222,
              "#7201a8"
             ],
             [
              0.3333333333333333,
              "#9c179e"
             ],
             [
              0.4444444444444444,
              "#bd3786"
             ],
             [
              0.5555555555555556,
              "#d8576b"
             ],
             [
              0.6666666666666666,
              "#ed7953"
             ],
             [
              0.7777777777777778,
              "#fb9f3a"
             ],
             [
              0.8888888888888888,
              "#fdca26"
             ],
             [
              1,
              "#f0f921"
             ]
            ],
            "type": "histogram2dcontour"
           }
          ],
          "mesh3d": [
           {
            "colorbar": {
             "outlinewidth": 0,
             "ticks": ""
            },
            "type": "mesh3d"
           }
          ],
          "parcoords": [
           {
            "line": {
             "colorbar": {
              "outlinewidth": 0,
              "ticks": ""
             }
            },
            "type": "parcoords"
           }
          ],
          "pie": [
           {
            "automargin": true,
            "type": "pie"
           }
          ],
          "scatter": [
           {
            "fillpattern": {
             "fillmode": "overlay",
             "size": 10,
             "solidity": 0.2
            },
            "type": "scatter"
           }
          ],
          "scatter3d": [
           {
            "line": {
             "colorbar": {
              "outlinewidth": 0,
              "ticks": ""
             }
            },
            "marker": {
             "colorbar": {
              "outlinewidth": 0,
              "ticks": ""
             }
            },
            "type": "scatter3d"
           }
          ],
          "scattercarpet": [
           {
            "marker": {
             "colorbar": {
              "outlinewidth": 0,
              "ticks": ""
             }
            },
            "type": "scattercarpet"
           }
          ],
          "scattergeo": [
           {
            "marker": {
             "colorbar": {
              "outlinewidth": 0,
              "ticks": ""
             }
            },
            "type": "scattergeo"
           }
          ],
          "scattergl": [
           {
            "marker": {
             "colorbar": {
              "outlinewidth": 0,
              "ticks": ""
             }
            },
            "type": "scattergl"
           }
          ],
          "scattermap": [
           {
            "marker": {
             "colorbar": {
              "outlinewidth": 0,
              "ticks": ""
             }
            },
            "type": "scattermap"
           }
          ],
          "scattermapbox": [
           {
            "marker": {
             "colorbar": {
              "outlinewidth": 0,
              "ticks": ""
             }
            },
            "type": "scattermapbox"
           }
          ],
          "scatterpolar": [
           {
            "marker": {
             "colorbar": {
              "outlinewidth": 0,
              "ticks": ""
             }
            },
            "type": "scatterpolar"
           }
          ],
          "scatterpolargl": [
           {
            "marker": {
             "colorbar": {
              "outlinewidth": 0,
              "ticks": ""
             }
            },
            "type": "scatterpolargl"
           }
          ],
          "scatterternary": [
           {
            "marker": {
             "colorbar": {
              "outlinewidth": 0,
              "ticks": ""
             }
            },
            "type": "scatterternary"
           }
          ],
          "surface": [
           {
            "colorbar": {
             "outlinewidth": 0,
             "ticks": ""
            },
            "colorscale": [
             [
              0,
              "#0d0887"
             ],
             [
              0.1111111111111111,
              "#46039f"
             ],
             [
              0.2222222222222222,
              "#7201a8"
             ],
             [
              0.3333333333333333,
              "#9c179e"
             ],
             [
              0.4444444444444444,
              "#bd3786"
             ],
             [
              0.5555555555555556,
              "#d8576b"
             ],
             [
              0.6666666666666666,
              "#ed7953"
             ],
             [
              0.7777777777777778,
              "#fb9f3a"
             ],
             [
              0.8888888888888888,
              "#fdca26"
             ],
             [
              1,
              "#f0f921"
             ]
            ],
            "type": "surface"
           }
          ],
          "table": [
           {
            "cells": {
             "fill": {
              "color": "#EBF0F8"
             },
             "line": {
              "color": "white"
             }
            },
            "header": {
             "fill": {
              "color": "#C8D4E3"
             },
             "line": {
              "color": "white"
             }
            },
            "type": "table"
           }
          ]
         },
         "layout": {
          "annotationdefaults": {
           "arrowcolor": "#2a3f5f",
           "arrowhead": 0,
           "arrowwidth": 1
          },
          "autotypenumbers": "strict",
          "coloraxis": {
           "colorbar": {
            "outlinewidth": 0,
            "ticks": ""
           }
          },
          "colorscale": {
           "diverging": [
            [
             0,
             "#8e0152"
            ],
            [
             0.1,
             "#c51b7d"
            ],
            [
             0.2,
             "#de77ae"
            ],
            [
             0.3,
             "#f1b6da"
            ],
            [
             0.4,
             "#fde0ef"
            ],
            [
             0.5,
             "#f7f7f7"
            ],
            [
             0.6,
             "#e6f5d0"
            ],
            [
             0.7,
             "#b8e186"
            ],
            [
             0.8,
             "#7fbc41"
            ],
            [
             0.9,
             "#4d9221"
            ],
            [
             1,
             "#276419"
            ]
           ],
           "sequential": [
            [
             0,
             "#0d0887"
            ],
            [
             0.1111111111111111,
             "#46039f"
            ],
            [
             0.2222222222222222,
             "#7201a8"
            ],
            [
             0.3333333333333333,
             "#9c179e"
            ],
            [
             0.4444444444444444,
             "#bd3786"
            ],
            [
             0.5555555555555556,
             "#d8576b"
            ],
            [
             0.6666666666666666,
             "#ed7953"
            ],
            [
             0.7777777777777778,
             "#fb9f3a"
            ],
            [
             0.8888888888888888,
             "#fdca26"
            ],
            [
             1,
             "#f0f921"
            ]
           ],
           "sequentialminus": [
            [
             0,
             "#0d0887"
            ],
            [
             0.1111111111111111,
             "#46039f"
            ],
            [
             0.2222222222222222,
             "#7201a8"
            ],
            [
             0.3333333333333333,
             "#9c179e"
            ],
            [
             0.4444444444444444,
             "#bd3786"
            ],
            [
             0.5555555555555556,
             "#d8576b"
            ],
            [
             0.6666666666666666,
             "#ed7953"
            ],
            [
             0.7777777777777778,
             "#fb9f3a"
            ],
            [
             0.8888888888888888,
             "#fdca26"
            ],
            [
             1,
             "#f0f921"
            ]
           ]
          },
          "colorway": [
           "#636efa",
           "#EF553B",
           "#00cc96",
           "#ab63fa",
           "#FFA15A",
           "#19d3f3",
           "#FF6692",
           "#B6E880",
           "#FF97FF",
           "#FECB52"
          ],
          "font": {
           "color": "#2a3f5f"
          },
          "geo": {
           "bgcolor": "white",
           "lakecolor": "white",
           "landcolor": "#E5ECF6",
           "showlakes": true,
           "showland": true,
           "subunitcolor": "white"
          },
          "hoverlabel": {
           "align": "left"
          },
          "hovermode": "closest",
          "mapbox": {
           "style": "light"
          },
          "paper_bgcolor": "white",
          "plot_bgcolor": "#E5ECF6",
          "polar": {
           "angularaxis": {
            "gridcolor": "white",
            "linecolor": "white",
            "ticks": ""
           },
           "bgcolor": "#E5ECF6",
           "radialaxis": {
            "gridcolor": "white",
            "linecolor": "white",
            "ticks": ""
           }
          },
          "scene": {
           "xaxis": {
            "backgroundcolor": "#E5ECF6",
            "gridcolor": "white",
            "gridwidth": 2,
            "linecolor": "white",
            "showbackground": true,
            "ticks": "",
            "zerolinecolor": "white"
           },
           "yaxis": {
            "backgroundcolor": "#E5ECF6",
            "gridcolor": "white",
            "gridwidth": 2,
            "linecolor": "white",
            "showbackground": true,
            "ticks": "",
            "zerolinecolor": "white"
           },
           "zaxis": {
            "backgroundcolor": "#E5ECF6",
            "gridcolor": "white",
            "gridwidth": 2,
            "linecolor": "white",
            "showbackground": true,
            "ticks": "",
            "zerolinecolor": "white"
           }
          },
          "shapedefaults": {
           "line": {
            "color": "#2a3f5f"
           }
          },
          "ternary": {
           "aaxis": {
            "gridcolor": "white",
            "linecolor": "white",
            "ticks": ""
           },
           "baxis": {
            "gridcolor": "white",
            "linecolor": "white",
            "ticks": ""
           },
           "bgcolor": "#E5ECF6",
           "caxis": {
            "gridcolor": "white",
            "linecolor": "white",
            "ticks": ""
           }
          },
          "title": {
           "x": 0.05
          },
          "xaxis": {
           "automargin": true,
           "gridcolor": "white",
           "linecolor": "white",
           "ticks": "",
           "title": {
            "standoff": 15
           },
           "zerolinecolor": "white",
           "zerolinewidth": 2
          },
          "yaxis": {
           "automargin": true,
           "gridcolor": "white",
           "linecolor": "white",
           "ticks": "",
           "title": {
            "standoff": 15
           },
           "zerolinecolor": "white",
           "zerolinewidth": 2
          }
         }
        },
        "title": {
         "font": {
          "size": 16
         },
         "text": "Relazioni tra DataFrame (Plotly)"
        },
        "xaxis": {
         "showgrid": false,
         "showticklabels": false,
         "zeroline": false
        },
        "yaxis": {
         "showgrid": false,
         "showticklabels": false,
         "zeroline": false
        }
       }
      }
     },
     "metadata": {},
     "output_type": "display_data"
    }
   ],
   "source": [
    "import pandas as pd\n",
    "import plotly.graph_objects as go\n",
    "import igraph as ig\n",
    "\n",
    "# Creazione del grafo con igraph\n",
    "g = ig.Graph(directed=True)\n",
    "\n",
    "# Aggiunta nodi (dataframe)\n",
    "dataframes = [\"apiControls\", \"cisco\", \"medinaEucs\", \"secNumCloud\", \"spanishEns\"]\n",
    "g.add_vertices(dataframes)\n",
    "g.vs[\"label\"] = dataframes\n",
    "\n",
    "# Aggiunta relazioni (edge) con descrizioni\n",
    "relations = [\n",
    "    (\"cisco\", \"medinaEucs\", \"EUCS Control Codes\"),\n",
    "    (\"cisco\", \"spanishEns\", \"Spanish ENS High Control\"),\n",
    "    (\"cisco\", \"secNumCloud\", \"SecNumCloud Control\"),\n",
    "    (\"cisco\", \"medinaEucs\", \"EUCS Basic Control\"),\n",
    "    (\"apiControls\", \"cisco\", \"Control Names/IDs\"),\n",
    "    (\"apiControls\", \"medinaEucs\", \"code\"),\n",
    "    (\"medinaEucs\", \"secNumCloud\", \"SecNumCloud FRANCE\"),\n",
    "\n",
    "]\n",
    "for src, dst, label in relations:\n",
    "    g.add_edge(g.vs.find(src).index, g.vs.find(dst).index, label=label)\n",
    "\n",
    "# Calcola il layout del grafo\n",
    "layout = g.layout(\"kk\")\n",
    "pos = {name: layout[i] for i, name in enumerate(g.vs[\"label\"])}\n",
    "\n",
    "# Crea liste per le posizioni dei nodi\n",
    "edge_x = []\n",
    "edge_y = []\n",
    "for edge in g.es:\n",
    "    start_node = g.vs[edge.source][\"label\"]\n",
    "    end_node = g.vs[edge.target][\"label\"]\n",
    "    x0, y0 = pos[start_node]\n",
    "    x1, y1 = pos[end_node]\n",
    "    edge_x.extend([x0, x1, None])\n",
    "    edge_y.extend([y0, y1, None])\n",
    "\n",
    "# Traccia gli archi\n",
    "edge_trace = go.Scatter(\n",
    "    x=edge_x, y=edge_y,\n",
    "    line=dict(width=0.5, color='#888'),\n",
    "    hoverinfo='none',\n",
    "    mode='lines')\n",
    "\n",
    "# Traccia i nodi\n",
    "node_x = [pos[name][0] for name in dataframes]\n",
    "node_y = [pos[name][1] for name in dataframes]\n",
    "node_trace = go.Scatter(\n",
    "    x=node_x, y=node_y,\n",
    "    mode='markers+text',\n",
    "    hoverinfo='text',\n",
    "    text=dataframes,\n",
    "    textposition=\"bottom center\",\n",
    "    textfont=dict(size=14),\n",
    "    marker=dict(\n",
    "        showscale=False,\n",
    "        size=25,\n",
    "        color='#FFDDC1',\n",
    "        line=dict(color='black', width=1.5)))\n",
    "\n",
    "# Crea le etichette degli archi\n",
    "edge_labels = []\n",
    "for edge in g.es:\n",
    "    start_node = g.vs[edge.source][\"label\"]\n",
    "    end_node = g.vs[edge.target][\"label\"]\n",
    "    label = edge[\"label\"]\n",
    "    x0, y0 = pos[start_node]\n",
    "    x1, y1 = pos[end_node]\n",
    "    edge_labels.append(go.Scatter(\n",
    "        x=[(x0+x1)/2], y=[(y0+y1)/2],\n",
    "        mode='text',\n",
    "        text=f'<b>{label}</b>',  # Modifica qui per il grassetto\n",
    "        textposition=\"middle center\",\n",
    "        showlegend=False,\n",
    "        textfont=dict(size=12, color=\"gray\")))\n",
    "\n",
    "# Combina tutti i tracciati\n",
    "fig = go.Figure(data=[edge_trace, node_trace] + edge_labels,\n",
    "                layout=go.Layout(\n",
    "                    title={\n",
    "                        'text': 'Relazioni tra DataFrame (Plotly)',\n",
    "                        'font': {'size': 16}\n",
    "                    },\n",
    "                    showlegend=False,\n",
    "                    hovermode='closest',\n",
    "                    margin=dict(b=20, l=5, r=5, t=40),\n",
    "                    annotations=[dict(\n",
    "                        ax=edge_x[i*3], ay=edge_y[i*3],\n",
    "                        axref='x', ayref='y',\n",
    "                        x=edge_x[i*3+1], y=edge_y[i*3+1],\n",
    "                        xref='x', yref='y',\n",
    "                        showarrow=True,\n",
    "                        arrowhead=2,\n",
    "                        arrowsize=1,\n",
    "                        arrowwidth=1,\n",
    "                        arrowcolor='#888') for i in range(len(relations))],\n",
    "                    xaxis=dict(showgrid=False, zeroline=False, showticklabels=False),\n",
    "                    yaxis=dict(showgrid=False, zeroline=False, showticklabels=False)))\n",
    "\n",
    "fig.show()"
   ]
  }
 ],
 "metadata": {
  "kernelspec": {
   "display_name": ".venv",
   "language": "python",
   "name": "python3"
  },
  "language_info": {
   "codemirror_mode": {
    "name": "ipython",
    "version": 3
   },
   "file_extension": ".py",
   "mimetype": "text/x-python",
   "name": "python",
   "nbconvert_exporter": "python",
   "pygments_lexer": "ipython3",
   "version": "3.12.3"
  }
 },
 "nbformat": 4,
 "nbformat_minor": 5
}
