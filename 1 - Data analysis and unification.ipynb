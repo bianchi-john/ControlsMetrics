{
 "cells": [
  {
   "cell_type": "markdown",
   "id": "aa0cbd1d",
   "metadata": {},
   "source": [
    "# Import data"
   ]
  },
  {
   "cell_type": "code",
   "execution_count": 1,
   "id": "069af6af",
   "metadata": {},
   "outputs": [],
   "source": [
    "import pandas as pd\n",
    "\n",
    "apiControls= pd.read_json('Schemes/apiControls.json')\n",
    "cisco = pd.read_csv('Schemes/Cisco.csv')\n",
    "medinaEucs = pd.read_csv('Schemes/MEDINA_EUCS_ControlsMapping_Clean.csv')\n",
    "secNumCloud = pd.read_csv('Schemes/secnumcloud_controlsParsedAndTranslatedEnglish.csv')\n",
    "spanishEns = pd.read_csv('Schemes/SpanishENS.csv')"
   ]
  },
  {
   "cell_type": "code",
   "execution_count": 2,
   "id": "feea09b1",
   "metadata": {},
   "outputs": [
    {
     "data": {
      "text/html": [
       "<div>\n",
       "<style scoped>\n",
       "    .dataframe tbody tr th:only-of-type {\n",
       "        vertical-align: middle;\n",
       "    }\n",
       "\n",
       "    .dataframe tbody tr th {\n",
       "        vertical-align: top;\n",
       "    }\n",
       "\n",
       "    .dataframe thead th {\n",
       "        text-align: right;\n",
       "    }\n",
       "</style>\n",
       "<table border=\"1\" class=\"dataframe\">\n",
       "  <thead>\n",
       "    <tr style=\"text-align: right;\">\n",
       "      <th></th>\n",
       "      <th>uuid</th>\n",
       "      <th>code</th>\n",
       "      <th>name</th>\n",
       "      <th>descriptionTitle</th>\n",
       "      <th>descriptionExtended</th>\n",
       "      <th>extraInfoTitle</th>\n",
       "      <th>extraInfoExtended</th>\n",
       "      <th>finalInfoTitle</th>\n",
       "      <th>finalInfoExtended</th>\n",
       "      <th>implementationGuidelines</th>\n",
       "      <th>createdDate</th>\n",
       "      <th>lastModifiedDate</th>\n",
       "      <th>category</th>\n",
       "      <th>assuranceLevel</th>\n",
       "      <th>requirements</th>\n",
       "      <th>sourceSimilarControls</th>\n",
       "      <th>targetSimilarControls</th>\n",
       "      <th>relatedMetrics</th>\n",
       "    </tr>\n",
       "  </thead>\n",
       "  <tbody>\n",
       "    <tr>\n",
       "      <th>0</th>\n",
       "      <td>00000000-0000-0000-0000-000000000000</td>\n",
       "      <td>AAA-00</td>\n",
       "      <td>GENERIC CONTROL</td>\n",
       "      <td>This control behaves as a generic control.</td>\n",
       "      <td>None</td>\n",
       "      <td>None</td>\n",
       "      <td>None</td>\n",
       "      <td>None</td>\n",
       "      <td>None</td>\n",
       "      <td>NaN</td>\n",
       "      <td>1710154800</td>\n",
       "      <td>1710154800</td>\n",
       "      <td>{'uuid': '00000000-0000-0000-0000-000000000000...</td>\n",
       "      <td>{'uuid': 'ffffffff-ffff-ffff-ffff-ffffffffffff...</td>\n",
       "      <td>NaN</td>\n",
       "      <td>NaN</td>\n",
       "      <td>NaN</td>\n",
       "      <td>NaN</td>\n",
       "    </tr>\n",
       "    <tr>\n",
       "      <th>1</th>\n",
       "      <td>0026165d-7fdd-4834-8033-292e16c493f7</td>\n",
       "      <td>IAM-02</td>\n",
       "      <td>MANAGEMENT OF USER ACCOUNTS</td>\n",
       "      <td>Policies and procedures for managing the diffe...</td>\n",
       "      <td>None</td>\n",
       "      <td>None</td>\n",
       "      <td>None</td>\n",
       "      <td>None</td>\n",
       "      <td>None</td>\n",
       "      <td>NaN</td>\n",
       "      <td>1710154800</td>\n",
       "      <td>1710154800</td>\n",
       "      <td>{'uuid': '606d35a4-a217-4ed0-ad2b-3068ffe409b7...</td>\n",
       "      <td>{'uuid': 'ffffffff-ffff-ffff-ffff-ffffffffffff...</td>\n",
       "      <td>NaN</td>\n",
       "      <td>NaN</td>\n",
       "      <td>NaN</td>\n",
       "      <td>NaN</td>\n",
       "    </tr>\n",
       "    <tr>\n",
       "      <th>2</th>\n",
       "      <td>00a8fdd7-cafb-42bd-b2a4-2ae57211e789</td>\n",
       "      <td>OIS-01</td>\n",
       "      <td>INFORMATION SECURITY MANAGEMENT SYSTEM</td>\n",
       "      <td>The CSP operates an information security manag...</td>\n",
       "      <td>None</td>\n",
       "      <td>None</td>\n",
       "      <td>None</td>\n",
       "      <td>None</td>\n",
       "      <td>None</td>\n",
       "      <td>NaN</td>\n",
       "      <td>1710154800</td>\n",
       "      <td>1710154800</td>\n",
       "      <td>{'uuid': '0b71c590-13f7-4eac-a927-91e11c902fa5...</td>\n",
       "      <td>{'uuid': 'ffffffff-ffff-ffff-ffff-ffffffffffff...</td>\n",
       "      <td>NaN</td>\n",
       "      <td>NaN</td>\n",
       "      <td>NaN</td>\n",
       "      <td>NaN</td>\n",
       "    </tr>\n",
       "    <tr>\n",
       "      <th>3</th>\n",
       "      <td>01006ca1-2dd3-4e84-bdff-db0db40912a6</td>\n",
       "      <td>SIM-04</td>\n",
       "      <td>Duty of the users to report security incidents...</td>\n",
       "      <td>The Cloud Service Provider informs employees a...</td>\n",
       "      <td>None</td>\n",
       "      <td>None</td>\n",
       "      <td>Cloud customers ensure through suitable contro...</td>\n",
       "      <td>partially</td>\n",
       "      <td>The Cloud Service Provider should inform its e...</td>\n",
       "      <td>NaN</td>\n",
       "      <td>1710154800</td>\n",
       "      <td>1710154800</td>\n",
       "      <td>{'uuid': 'df962f42-d441-4dbe-8bb2-9ab44c286947...</td>\n",
       "      <td>{'uuid': 'ffffffff-ffff-ffff-ffff-ffffffffffff...</td>\n",
       "      <td>NaN</td>\n",
       "      <td>NaN</td>\n",
       "      <td>NaN</td>\n",
       "      <td>NaN</td>\n",
       "    </tr>\n",
       "    <tr>\n",
       "      <th>4</th>\n",
       "      <td>02a1ea32-5ebc-4e34-ac0f-8ed3fda33b5c</td>\n",
       "      <td>OPS-03</td>\n",
       "      <td>Capacity Management - Controlling of Resources</td>\n",
       "      <td>Depending on the capabilities of the respectiv...</td>\n",
       "      <td>None</td>\n",
       "      <td>Resources according to the possibilities of th...</td>\n",
       "      <td>Cloud customers ensure through suitable contro...</td>\n",
       "      <td>partially</td>\n",
       "      <td>The existence of tools for controlling resourc...</td>\n",
       "      <td>NaN</td>\n",
       "      <td>1710154800</td>\n",
       "      <td>1710154800</td>\n",
       "      <td>{'uuid': '376740c0-29c9-4ecc-992d-da93dfce9f57...</td>\n",
       "      <td>{'uuid': 'ffffffff-ffff-ffff-ffff-ffffffffffff...</td>\n",
       "      <td>NaN</td>\n",
       "      <td>NaN</td>\n",
       "      <td>NaN</td>\n",
       "      <td>NaN</td>\n",
       "    </tr>\n",
       "    <tr>\n",
       "      <th>...</th>\n",
       "      <td>...</td>\n",
       "      <td>...</td>\n",
       "      <td>...</td>\n",
       "      <td>...</td>\n",
       "      <td>...</td>\n",
       "      <td>...</td>\n",
       "      <td>...</td>\n",
       "      <td>...</td>\n",
       "      <td>...</td>\n",
       "      <td>...</td>\n",
       "      <td>...</td>\n",
       "      <td>...</td>\n",
       "      <td>...</td>\n",
       "      <td>...</td>\n",
       "      <td>...</td>\n",
       "      <td>...</td>\n",
       "      <td>...</td>\n",
       "      <td>...</td>\n",
       "    </tr>\n",
       "    <tr>\n",
       "      <th>289</th>\n",
       "      <td>fda6073b-0141-438f-885c-28408b77498a</td>\n",
       "      <td>OPS-21</td>\n",
       "      <td>MANAGING VULNERABILITIES, MALFUNCTIONS AND ERR...</td>\n",
       "      <td>System components are hardened to reduce their...</td>\n",
       "      <td>None</td>\n",
       "      <td>None</td>\n",
       "      <td>None</td>\n",
       "      <td>None</td>\n",
       "      <td>None</td>\n",
       "      <td>NaN</td>\n",
       "      <td>1710154800</td>\n",
       "      <td>1710154800</td>\n",
       "      <td>{'uuid': '5b95970d-9e05-45e7-900b-70f368169293...</td>\n",
       "      <td>{'uuid': 'ffffffff-ffff-ffff-ffff-ffffffffffff...</td>\n",
       "      <td>NaN</td>\n",
       "      <td>NaN</td>\n",
       "      <td>NaN</td>\n",
       "      <td>NaN</td>\n",
       "    </tr>\n",
       "    <tr>\n",
       "      <th>290</th>\n",
       "      <td>fdb3daf4-3f2b-43da-bfc9-b817b0912a1f</td>\n",
       "      <td>COM-01</td>\n",
       "      <td>Identification of applicable legal, regulatory...</td>\n",
       "      <td>The legal, regulatory, self-imposed and contra...</td>\n",
       "      <td>None</td>\n",
       "      <td>The Cloud Service Provider´s documentation may...</td>\n",
       "      <td>None</td>\n",
       "      <td>no</td>\n",
       "      <td>A continuous audit of contract specifications,...</td>\n",
       "      <td>NaN</td>\n",
       "      <td>1710154800</td>\n",
       "      <td>1710154800</td>\n",
       "      <td>{'uuid': 'd46f6a56-a6f2-45cd-afbb-5bfb18368ac1...</td>\n",
       "      <td>{'uuid': 'ffffffff-ffff-ffff-ffff-ffffffffffff...</td>\n",
       "      <td>NaN</td>\n",
       "      <td>NaN</td>\n",
       "      <td>NaN</td>\n",
       "      <td>NaN</td>\n",
       "    </tr>\n",
       "    <tr>\n",
       "      <th>291</th>\n",
       "      <td>fed57d83-4959-4e8e-b23a-5b1165425775</td>\n",
       "      <td>OPS-22</td>\n",
       "      <td>SEPARATION OF DATASETS IN THE CLOUD INFRASTRUC...</td>\n",
       "      <td>System components are hardened to reduce their...</td>\n",
       "      <td>None</td>\n",
       "      <td>None</td>\n",
       "      <td>None</td>\n",
       "      <td>None</td>\n",
       "      <td>None</td>\n",
       "      <td>NaN</td>\n",
       "      <td>1710154800</td>\n",
       "      <td>1710154800</td>\n",
       "      <td>{'uuid': '5b95970d-9e05-45e7-900b-70f368169293...</td>\n",
       "      <td>{'uuid': 'ffffffff-ffff-ffff-ffff-ffffffffffff...</td>\n",
       "      <td>NaN</td>\n",
       "      <td>NaN</td>\n",
       "      <td>NaN</td>\n",
       "      <td>NaN</td>\n",
       "    </tr>\n",
       "    <tr>\n",
       "      <th>292</th>\n",
       "      <td>fedb6f08-32ed-4bb6-9101-1061072673e6</td>\n",
       "      <td>CS-04</td>\n",
       "      <td>NETWORKS FOR ADMINISTRATION</td>\n",
       "      <td>Administrative and operational management duti...</td>\n",
       "      <td>None</td>\n",
       "      <td>None</td>\n",
       "      <td>None</td>\n",
       "      <td>None</td>\n",
       "      <td>None</td>\n",
       "      <td>NaN</td>\n",
       "      <td>1710154800</td>\n",
       "      <td>1710154800</td>\n",
       "      <td>{'uuid': '69e9f4a6-8c00-4a8a-9e65-819a9231c23e...</td>\n",
       "      <td>{'uuid': 'ffffffff-ffff-ffff-ffff-ffffffffffff...</td>\n",
       "      <td>NaN</td>\n",
       "      <td>NaN</td>\n",
       "      <td>NaN</td>\n",
       "      <td>NaN</td>\n",
       "    </tr>\n",
       "    <tr>\n",
       "      <th>293</th>\n",
       "      <td>ff69623c-861b-4cc0-a3f0-1b7e808979b6</td>\n",
       "      <td>CKM-04</td>\n",
       "      <td>SECURE KEY MANAGEMENT</td>\n",
       "      <td>Appropriate mechanisms for key management are ...</td>\n",
       "      <td>None</td>\n",
       "      <td>None</td>\n",
       "      <td>None</td>\n",
       "      <td>None</td>\n",
       "      <td>None</td>\n",
       "      <td>NaN</td>\n",
       "      <td>1710154800</td>\n",
       "      <td>1710154800</td>\n",
       "      <td>{'uuid': '67861384-b228-4404-888b-d37a46fc5560...</td>\n",
       "      <td>{'uuid': 'ffffffff-ffff-ffff-ffff-ffffffffffff...</td>\n",
       "      <td>NaN</td>\n",
       "      <td>NaN</td>\n",
       "      <td>NaN</td>\n",
       "      <td>NaN</td>\n",
       "    </tr>\n",
       "  </tbody>\n",
       "</table>\n",
       "<p>294 rows × 18 columns</p>\n",
       "</div>"
      ],
      "text/plain": [
       "                                     uuid    code  \\\n",
       "0    00000000-0000-0000-0000-000000000000  AAA-00   \n",
       "1    0026165d-7fdd-4834-8033-292e16c493f7  IAM-02   \n",
       "2    00a8fdd7-cafb-42bd-b2a4-2ae57211e789  OIS-01   \n",
       "3    01006ca1-2dd3-4e84-bdff-db0db40912a6  SIM-04   \n",
       "4    02a1ea32-5ebc-4e34-ac0f-8ed3fda33b5c  OPS-03   \n",
       "..                                    ...     ...   \n",
       "289  fda6073b-0141-438f-885c-28408b77498a  OPS-21   \n",
       "290  fdb3daf4-3f2b-43da-bfc9-b817b0912a1f  COM-01   \n",
       "291  fed57d83-4959-4e8e-b23a-5b1165425775  OPS-22   \n",
       "292  fedb6f08-32ed-4bb6-9101-1061072673e6   CS-04   \n",
       "293  ff69623c-861b-4cc0-a3f0-1b7e808979b6  CKM-04   \n",
       "\n",
       "                                                  name  \\\n",
       "0                                      GENERIC CONTROL   \n",
       "1                          MANAGEMENT OF USER ACCOUNTS   \n",
       "2               INFORMATION SECURITY MANAGEMENT SYSTEM   \n",
       "3    Duty of the users to report security incidents...   \n",
       "4       Capacity Management - Controlling of Resources   \n",
       "..                                                 ...   \n",
       "289  MANAGING VULNERABILITIES, MALFUNCTIONS AND ERR...   \n",
       "290  Identification of applicable legal, regulatory...   \n",
       "291  SEPARATION OF DATASETS IN THE CLOUD INFRASTRUC...   \n",
       "292                        NETWORKS FOR ADMINISTRATION   \n",
       "293                              SECURE KEY MANAGEMENT   \n",
       "\n",
       "                                      descriptionTitle descriptionExtended  \\\n",
       "0           This control behaves as a generic control.                None   \n",
       "1    Policies and procedures for managing the diffe...                None   \n",
       "2    The CSP operates an information security manag...                None   \n",
       "3    The Cloud Service Provider informs employees a...                None   \n",
       "4    Depending on the capabilities of the respectiv...                None   \n",
       "..                                                 ...                 ...   \n",
       "289  System components are hardened to reduce their...                None   \n",
       "290  The legal, regulatory, self-imposed and contra...                None   \n",
       "291  System components are hardened to reduce their...                None   \n",
       "292  Administrative and operational management duti...                None   \n",
       "293  Appropriate mechanisms for key management are ...                None   \n",
       "\n",
       "                                        extraInfoTitle  \\\n",
       "0                                                 None   \n",
       "1                                                 None   \n",
       "2                                                 None   \n",
       "3                                                 None   \n",
       "4    Resources according to the possibilities of th...   \n",
       "..                                                 ...   \n",
       "289                                               None   \n",
       "290  The Cloud Service Provider´s documentation may...   \n",
       "291                                               None   \n",
       "292                                               None   \n",
       "293                                               None   \n",
       "\n",
       "                                     extraInfoExtended finalInfoTitle  \\\n",
       "0                                                 None           None   \n",
       "1                                                 None           None   \n",
       "2                                                 None           None   \n",
       "3    Cloud customers ensure through suitable contro...      partially   \n",
       "4    Cloud customers ensure through suitable contro...      partially   \n",
       "..                                                 ...            ...   \n",
       "289                                               None           None   \n",
       "290                                               None             no   \n",
       "291                                               None           None   \n",
       "292                                               None           None   \n",
       "293                                               None           None   \n",
       "\n",
       "                                     finalInfoExtended  \\\n",
       "0                                                 None   \n",
       "1                                                 None   \n",
       "2                                                 None   \n",
       "3    The Cloud Service Provider should inform its e...   \n",
       "4    The existence of tools for controlling resourc...   \n",
       "..                                                 ...   \n",
       "289                                               None   \n",
       "290  A continuous audit of contract specifications,...   \n",
       "291                                               None   \n",
       "292                                               None   \n",
       "293                                               None   \n",
       "\n",
       "     implementationGuidelines  createdDate  lastModifiedDate  \\\n",
       "0                         NaN   1710154800        1710154800   \n",
       "1                         NaN   1710154800        1710154800   \n",
       "2                         NaN   1710154800        1710154800   \n",
       "3                         NaN   1710154800        1710154800   \n",
       "4                         NaN   1710154800        1710154800   \n",
       "..                        ...          ...               ...   \n",
       "289                       NaN   1710154800        1710154800   \n",
       "290                       NaN   1710154800        1710154800   \n",
       "291                       NaN   1710154800        1710154800   \n",
       "292                       NaN   1710154800        1710154800   \n",
       "293                       NaN   1710154800        1710154800   \n",
       "\n",
       "                                              category  \\\n",
       "0    {'uuid': '00000000-0000-0000-0000-000000000000...   \n",
       "1    {'uuid': '606d35a4-a217-4ed0-ad2b-3068ffe409b7...   \n",
       "2    {'uuid': '0b71c590-13f7-4eac-a927-91e11c902fa5...   \n",
       "3    {'uuid': 'df962f42-d441-4dbe-8bb2-9ab44c286947...   \n",
       "4    {'uuid': '376740c0-29c9-4ecc-992d-da93dfce9f57...   \n",
       "..                                                 ...   \n",
       "289  {'uuid': '5b95970d-9e05-45e7-900b-70f368169293...   \n",
       "290  {'uuid': 'd46f6a56-a6f2-45cd-afbb-5bfb18368ac1...   \n",
       "291  {'uuid': '5b95970d-9e05-45e7-900b-70f368169293...   \n",
       "292  {'uuid': '69e9f4a6-8c00-4a8a-9e65-819a9231c23e...   \n",
       "293  {'uuid': '67861384-b228-4404-888b-d37a46fc5560...   \n",
       "\n",
       "                                        assuranceLevel  requirements  \\\n",
       "0    {'uuid': 'ffffffff-ffff-ffff-ffff-ffffffffffff...           NaN   \n",
       "1    {'uuid': 'ffffffff-ffff-ffff-ffff-ffffffffffff...           NaN   \n",
       "2    {'uuid': 'ffffffff-ffff-ffff-ffff-ffffffffffff...           NaN   \n",
       "3    {'uuid': 'ffffffff-ffff-ffff-ffff-ffffffffffff...           NaN   \n",
       "4    {'uuid': 'ffffffff-ffff-ffff-ffff-ffffffffffff...           NaN   \n",
       "..                                                 ...           ...   \n",
       "289  {'uuid': 'ffffffff-ffff-ffff-ffff-ffffffffffff...           NaN   \n",
       "290  {'uuid': 'ffffffff-ffff-ffff-ffff-ffffffffffff...           NaN   \n",
       "291  {'uuid': 'ffffffff-ffff-ffff-ffff-ffffffffffff...           NaN   \n",
       "292  {'uuid': 'ffffffff-ffff-ffff-ffff-ffffffffffff...           NaN   \n",
       "293  {'uuid': 'ffffffff-ffff-ffff-ffff-ffffffffffff...           NaN   \n",
       "\n",
       "     sourceSimilarControls  targetSimilarControls  relatedMetrics  \n",
       "0                      NaN                    NaN             NaN  \n",
       "1                      NaN                    NaN             NaN  \n",
       "2                      NaN                    NaN             NaN  \n",
       "3                      NaN                    NaN             NaN  \n",
       "4                      NaN                    NaN             NaN  \n",
       "..                     ...                    ...             ...  \n",
       "289                    NaN                    NaN             NaN  \n",
       "290                    NaN                    NaN             NaN  \n",
       "291                    NaN                    NaN             NaN  \n",
       "292                    NaN                    NaN             NaN  \n",
       "293                    NaN                    NaN             NaN  \n",
       "\n",
       "[294 rows x 18 columns]"
      ]
     },
     "execution_count": 2,
     "metadata": {},
     "output_type": "execute_result"
    }
   ],
   "source": [
    "apiControls"
   ]
  },
  {
   "cell_type": "code",
   "execution_count": 3,
   "id": "ff62bdec",
   "metadata": {},
   "outputs": [
    {
     "data": {
      "text/html": [
       "<div>\n",
       "<style scoped>\n",
       "    .dataframe tbody tr th:only-of-type {\n",
       "        vertical-align: middle;\n",
       "    }\n",
       "\n",
       "    .dataframe tbody tr th {\n",
       "        vertical-align: top;\n",
       "    }\n",
       "\n",
       "    .dataframe thead th {\n",
       "        text-align: right;\n",
       "    }\n",
       "</style>\n",
       "<table border=\"1\" class=\"dataframe\">\n",
       "  <thead>\n",
       "    <tr style=\"text-align: right;\">\n",
       "      <th></th>\n",
       "      <th>Domain Title</th>\n",
       "      <th>Control Title</th>\n",
       "      <th>Control Reference</th>\n",
       "      <th>Control Wording</th>\n",
       "      <th>Control Type</th>\n",
       "      <th>SOC  TSC Common Criteria</th>\n",
       "      <th>SOC  TSC Availability</th>\n",
       "      <th>SOC  TSC  Confidentiality</th>\n",
       "      <th>SOC TSC Privacy</th>\n",
       "      <th>ISO 27001 ISMS</th>\n",
       "      <th>...</th>\n",
       "      <th>ISMAP Control</th>\n",
       "      <th>PCI Control</th>\n",
       "      <th>Saudi CCC Control</th>\n",
       "      <th>EU Code of Conduct Control</th>\n",
       "      <th>NIST SP 800-171 Control</th>\n",
       "      <th>EUCS Basic Control</th>\n",
       "      <th>EUCS Substantial Control</th>\n",
       "      <th>EUCS High Control</th>\n",
       "      <th>SecNumCloud Control</th>\n",
       "      <th>IRAP Control</th>\n",
       "    </tr>\n",
       "  </thead>\n",
       "  <tbody>\n",
       "    <tr>\n",
       "      <th>0</th>\n",
       "      <td>Audit Compliance</td>\n",
       "      <td>Control Self-Assessments</td>\n",
       "      <td>CCF 1</td>\n",
       "      <td>Independent Control self-assessments are perfo...</td>\n",
       "      <td>Process</td>\n",
       "      <td>CC1.5, CC2.1, CC2.2, CC2.3, CC3.1, CC3.2, CC4....</td>\n",
       "      <td>NaN</td>\n",
       "      <td>NaN</td>\n",
       "      <td>NaN</td>\n",
       "      <td>Clause 6.1.1(e), Clause 6.1.2, Clause 6.1.3, C...</td>\n",
       "      <td>...</td>\n",
       "      <td>12.7.1, 13.1.1.7, 17.1.3, 18.1.1, 18.2.1, 18.2...</td>\n",
       "      <td>6.4.6, 10.1</td>\n",
       "      <td>2-16-P-4, 1-3-T-1-1, 1-9-4-2, 2-1-2, 2-1-4, 1-...</td>\n",
       "      <td>5.5.A, 5.5.B, 6.2.K, 6.3.A</td>\n",
       "      <td>3.12.1 Periodically assess the security contro...</td>\n",
       "      <td>OSI-01.4, OIS-02.3,  CO-01.1,  CO-02.1,  CO-03...</td>\n",
       "      <td>OIS-01.5, CO-01.2, CO-02.2,  CO-03.3, CO-04.2</td>\n",
       "      <td>OIS-01.3,  ISP-02.5,  PS-05.4,  OPS-19.4,  CO-...</td>\n",
       "      <td>18.2.1.a, 18.2.1.b, 18.3.a, 18.4.a</td>\n",
       "      <td>1163 1563 1564 0810 0336 1493</td>\n",
       "    </tr>\n",
       "    <tr>\n",
       "      <th>1</th>\n",
       "      <td>Audit Compliance</td>\n",
       "      <td>Security Policy Audit</td>\n",
       "      <td>CCF 2</td>\n",
       "      <td>At least quarterly, [The Organization] reviews...</td>\n",
       "      <td>Process</td>\n",
       "      <td>NaN</td>\n",
       "      <td>NaN</td>\n",
       "      <td>NaN</td>\n",
       "      <td>NaN</td>\n",
       "      <td>NaN</td>\n",
       "      <td>...</td>\n",
       "      <td>NaN</td>\n",
       "      <td>12.11.a, 12.11.b, 12.11.1</td>\n",
       "      <td>NaN</td>\n",
       "      <td>NaN</td>\n",
       "      <td>NaN</td>\n",
       "      <td>OPS-10.1</td>\n",
       "      <td>OPS-04.2, OPS-10.2, CS-08.3</td>\n",
       "      <td>NaN</td>\n",
       "      <td>12.1.a</td>\n",
       "      <td>NaN</td>\n",
       "    </tr>\n",
       "    <tr>\n",
       "      <th>2</th>\n",
       "      <td>Audit Compliance</td>\n",
       "      <td>Customer Audits</td>\n",
       "      <td>CCF 3</td>\n",
       "      <td>If applicable, Systems documented procedures r...</td>\n",
       "      <td>Process</td>\n",
       "      <td>NaN</td>\n",
       "      <td>NaN</td>\n",
       "      <td>NaN</td>\n",
       "      <td>NaN</td>\n",
       "      <td>NaN</td>\n",
       "      <td>...</td>\n",
       "      <td>NaN</td>\n",
       "      <td>NaN</td>\n",
       "      <td>NaN</td>\n",
       "      <td>5.5.E, 5.5.F, 5.5.A, 5.5.C</td>\n",
       "      <td>NaN</td>\n",
       "      <td>CO-02.1</td>\n",
       "      <td>NaN</td>\n",
       "      <td>CO-02.3</td>\n",
       "      <td>NaN</td>\n",
       "      <td>NaN</td>\n",
       "    </tr>\n",
       "    <tr>\n",
       "      <th>3</th>\n",
       "      <td>Audit Compliance</td>\n",
       "      <td>Audit Program</td>\n",
       "      <td>CCF 4</td>\n",
       "      <td>A three-year audit program is in place which d...</td>\n",
       "      <td>Process</td>\n",
       "      <td>NaN</td>\n",
       "      <td>NaN</td>\n",
       "      <td>NaN</td>\n",
       "      <td>NaN</td>\n",
       "      <td>NaN</td>\n",
       "      <td>...</td>\n",
       "      <td>NaN</td>\n",
       "      <td>NaN</td>\n",
       "      <td>NaN</td>\n",
       "      <td>NaN</td>\n",
       "      <td>NaN</td>\n",
       "      <td>NaN</td>\n",
       "      <td>NaN</td>\n",
       "      <td>NaN</td>\n",
       "      <td>18.2.1.a</td>\n",
       "      <td>NaN</td>\n",
       "    </tr>\n",
       "    <tr>\n",
       "      <th>4</th>\n",
       "      <td>Audit Compliance</td>\n",
       "      <td>Review of Audit Plan</td>\n",
       "      <td>CCF 5</td>\n",
       "      <td>Management performs a review of the audit plan...</td>\n",
       "      <td>People</td>\n",
       "      <td>NaN</td>\n",
       "      <td>NaN</td>\n",
       "      <td>NaN</td>\n",
       "      <td>NaN</td>\n",
       "      <td>NaN</td>\n",
       "      <td>...</td>\n",
       "      <td>4.4.1.1</td>\n",
       "      <td>NaN</td>\n",
       "      <td>NaN</td>\n",
       "      <td>NaN</td>\n",
       "      <td>NaN</td>\n",
       "      <td>NaN</td>\n",
       "      <td>NaN</td>\n",
       "      <td>NaN</td>\n",
       "      <td>NaN</td>\n",
       "      <td>NaN</td>\n",
       "    </tr>\n",
       "    <tr>\n",
       "      <th>...</th>\n",
       "      <td>...</td>\n",
       "      <td>...</td>\n",
       "      <td>...</td>\n",
       "      <td>...</td>\n",
       "      <td>...</td>\n",
       "      <td>...</td>\n",
       "      <td>...</td>\n",
       "      <td>...</td>\n",
       "      <td>...</td>\n",
       "      <td>...</td>\n",
       "      <td>...</td>\n",
       "      <td>...</td>\n",
       "      <td>...</td>\n",
       "      <td>...</td>\n",
       "      <td>...</td>\n",
       "      <td>...</td>\n",
       "      <td>...</td>\n",
       "      <td>...</td>\n",
       "      <td>...</td>\n",
       "      <td>...</td>\n",
       "      <td>...</td>\n",
       "    </tr>\n",
       "    <tr>\n",
       "      <th>708</th>\n",
       "      <td>Vulnerability Detection</td>\n",
       "      <td>Microsoft Office Macros</td>\n",
       "      <td>CCF 708</td>\n",
       "      <td>Allowed and blocked Microsoft Office macro exe...</td>\n",
       "      <td>Technology</td>\n",
       "      <td>NaN</td>\n",
       "      <td>NaN</td>\n",
       "      <td>NaN</td>\n",
       "      <td>NaN</td>\n",
       "      <td>NaN</td>\n",
       "      <td>...</td>\n",
       "      <td>NaN</td>\n",
       "      <td>NaN</td>\n",
       "      <td>NaN</td>\n",
       "      <td>NaN</td>\n",
       "      <td>NaN</td>\n",
       "      <td>NaN</td>\n",
       "      <td>NaN</td>\n",
       "      <td>NaN</td>\n",
       "      <td>NaN</td>\n",
       "      <td>1675, 1676</td>\n",
       "    </tr>\n",
       "    <tr>\n",
       "      <th>709</th>\n",
       "      <td>Vulnerability Detection</td>\n",
       "      <td>Data Transfer</td>\n",
       "      <td>CCF 709</td>\n",
       "      <td>All data transferred from a SECRET or TOP SECR...</td>\n",
       "      <td>Process</td>\n",
       "      <td>NaN</td>\n",
       "      <td>NaN</td>\n",
       "      <td>NaN</td>\n",
       "      <td>NaN</td>\n",
       "      <td>NaN</td>\n",
       "      <td>...</td>\n",
       "      <td>NaN</td>\n",
       "      <td>NaN</td>\n",
       "      <td>NaN</td>\n",
       "      <td>NaN</td>\n",
       "      <td>NaN</td>\n",
       "      <td>NaN</td>\n",
       "      <td>NaN</td>\n",
       "      <td>NaN</td>\n",
       "      <td>NaN</td>\n",
       "      <td>664, 675</td>\n",
       "    </tr>\n",
       "    <tr>\n",
       "      <th>710</th>\n",
       "      <td>Vulnerability Detection</td>\n",
       "      <td>Vulnerability scanner</td>\n",
       "      <td>CCF 710</td>\n",
       "      <td>A vulnerability scanner is used at least daily...</td>\n",
       "      <td>Technology</td>\n",
       "      <td>NaN</td>\n",
       "      <td>NaN</td>\n",
       "      <td>NaN</td>\n",
       "      <td>NaN</td>\n",
       "      <td>NaN</td>\n",
       "      <td>...</td>\n",
       "      <td>NaN</td>\n",
       "      <td>NaN</td>\n",
       "      <td>NaN</td>\n",
       "      <td>NaN</td>\n",
       "      <td>NaN</td>\n",
       "      <td>NaN</td>\n",
       "      <td>NaN</td>\n",
       "      <td>NaN</td>\n",
       "      <td>NaN</td>\n",
       "      <td>1700</td>\n",
       "    </tr>\n",
       "    <tr>\n",
       "      <th>711</th>\n",
       "      <td>Vulnerability Detection</td>\n",
       "      <td>Security Txt File</td>\n",
       "      <td>CCF 711</td>\n",
       "      <td>A ‘security.txt’ file is hosted for all intern...</td>\n",
       "      <td>Technology</td>\n",
       "      <td>NaN</td>\n",
       "      <td>NaN</td>\n",
       "      <td>NaN</td>\n",
       "      <td>NaN</td>\n",
       "      <td>NaN</td>\n",
       "      <td>...</td>\n",
       "      <td>NaN</td>\n",
       "      <td>NaN</td>\n",
       "      <td>NaN</td>\n",
       "      <td>NaN</td>\n",
       "      <td>NaN</td>\n",
       "      <td>NaN</td>\n",
       "      <td>NaN</td>\n",
       "      <td>NaN</td>\n",
       "      <td>NaN</td>\n",
       "      <td>1717</td>\n",
       "    </tr>\n",
       "    <tr>\n",
       "      <th>712</th>\n",
       "      <td>Vulnerability Detection</td>\n",
       "      <td>.NET Framework</td>\n",
       "      <td>CCF 712</td>\n",
       "      <td>.NET Framework 3.5 (includes .NET 2.0 and 3.0)...</td>\n",
       "      <td>Technology</td>\n",
       "      <td>NaN</td>\n",
       "      <td>NaN</td>\n",
       "      <td>NaN</td>\n",
       "      <td>NaN</td>\n",
       "      <td>NaN</td>\n",
       "      <td>...</td>\n",
       "      <td>NaN</td>\n",
       "      <td>NaN</td>\n",
       "      <td>NaN</td>\n",
       "      <td>NaN</td>\n",
       "      <td>NaN</td>\n",
       "      <td>NaN</td>\n",
       "      <td>NaN</td>\n",
       "      <td>NaN</td>\n",
       "      <td>NaN</td>\n",
       "      <td>1655</td>\n",
       "    </tr>\n",
       "  </tbody>\n",
       "</table>\n",
       "<p>713 rows × 32 columns</p>\n",
       "</div>"
      ],
      "text/plain": [
       "                Domain Title             Control Title Control Reference  \\\n",
       "0           Audit Compliance  Control Self-Assessments             CCF 1   \n",
       "1           Audit Compliance     Security Policy Audit             CCF 2   \n",
       "2           Audit Compliance           Customer Audits             CCF 3   \n",
       "3           Audit Compliance             Audit Program             CCF 4   \n",
       "4           Audit Compliance      Review of Audit Plan             CCF 5   \n",
       "..                       ...                       ...               ...   \n",
       "708  Vulnerability Detection   Microsoft Office Macros           CCF 708   \n",
       "709  Vulnerability Detection             Data Transfer           CCF 709   \n",
       "710  Vulnerability Detection     Vulnerability scanner           CCF 710   \n",
       "711  Vulnerability Detection         Security Txt File           CCF 711   \n",
       "712  Vulnerability Detection            .NET Framework           CCF 712   \n",
       "\n",
       "                                       Control Wording Control Type  \\\n",
       "0    Independent Control self-assessments are perfo...      Process   \n",
       "1    At least quarterly, [The Organization] reviews...      Process   \n",
       "2    If applicable, Systems documented procedures r...      Process   \n",
       "3    A three-year audit program is in place which d...      Process   \n",
       "4    Management performs a review of the audit plan...       People   \n",
       "..                                                 ...          ...   \n",
       "708  Allowed and blocked Microsoft Office macro exe...   Technology   \n",
       "709  All data transferred from a SECRET or TOP SECR...      Process   \n",
       "710  A vulnerability scanner is used at least daily...   Technology   \n",
       "711  A ‘security.txt’ file is hosted for all intern...   Technology   \n",
       "712  .NET Framework 3.5 (includes .NET 2.0 and 3.0)...   Technology   \n",
       "\n",
       "                              SOC  TSC Common Criteria SOC  TSC Availability  \\\n",
       "0    CC1.5, CC2.1, CC2.2, CC2.3, CC3.1, CC3.2, CC4....                   NaN   \n",
       "1                                                  NaN                   NaN   \n",
       "2                                                  NaN                   NaN   \n",
       "3                                                  NaN                   NaN   \n",
       "4                                                  NaN                   NaN   \n",
       "..                                                 ...                   ...   \n",
       "708                                                NaN                   NaN   \n",
       "709                                                NaN                   NaN   \n",
       "710                                                NaN                   NaN   \n",
       "711                                                NaN                   NaN   \n",
       "712                                                NaN                   NaN   \n",
       "\n",
       "    SOC  TSC  Confidentiality SOC TSC Privacy  \\\n",
       "0                         NaN             NaN   \n",
       "1                         NaN             NaN   \n",
       "2                         NaN             NaN   \n",
       "3                         NaN             NaN   \n",
       "4                         NaN             NaN   \n",
       "..                        ...             ...   \n",
       "708                       NaN             NaN   \n",
       "709                       NaN             NaN   \n",
       "710                       NaN             NaN   \n",
       "711                       NaN             NaN   \n",
       "712                       NaN             NaN   \n",
       "\n",
       "                                       ISO 27001 ISMS   ...  \\\n",
       "0    Clause 6.1.1(e), Clause 6.1.2, Clause 6.1.3, C...  ...   \n",
       "1                                                  NaN  ...   \n",
       "2                                                  NaN  ...   \n",
       "3                                                  NaN  ...   \n",
       "4                                                  NaN  ...   \n",
       "..                                                 ...  ...   \n",
       "708                                                NaN  ...   \n",
       "709                                                NaN  ...   \n",
       "710                                                NaN  ...   \n",
       "711                                                NaN  ...   \n",
       "712                                                NaN  ...   \n",
       "\n",
       "                                         ISMAP Control  \\\n",
       "0    12.7.1, 13.1.1.7, 17.1.3, 18.1.1, 18.2.1, 18.2...   \n",
       "1                                                  NaN   \n",
       "2                                                  NaN   \n",
       "3                                                  NaN   \n",
       "4                                              4.4.1.1   \n",
       "..                                                 ...   \n",
       "708                                                NaN   \n",
       "709                                                NaN   \n",
       "710                                                NaN   \n",
       "711                                                NaN   \n",
       "712                                                NaN   \n",
       "\n",
       "                   PCI Control  \\\n",
       "0                  6.4.6, 10.1   \n",
       "1    12.11.a, 12.11.b, 12.11.1   \n",
       "2                          NaN   \n",
       "3                          NaN   \n",
       "4                          NaN   \n",
       "..                         ...   \n",
       "708                        NaN   \n",
       "709                        NaN   \n",
       "710                        NaN   \n",
       "711                        NaN   \n",
       "712                        NaN   \n",
       "\n",
       "                                     Saudi CCC Control  \\\n",
       "0    2-16-P-4, 1-3-T-1-1, 1-9-4-2, 2-1-2, 2-1-4, 1-...   \n",
       "1                                                  NaN   \n",
       "2                                                  NaN   \n",
       "3                                                  NaN   \n",
       "4                                                  NaN   \n",
       "..                                                 ...   \n",
       "708                                                NaN   \n",
       "709                                                NaN   \n",
       "710                                                NaN   \n",
       "711                                                NaN   \n",
       "712                                                NaN   \n",
       "\n",
       "     EU Code of Conduct Control  \\\n",
       "0    5.5.A, 5.5.B, 6.2.K, 6.3.A   \n",
       "1                           NaN   \n",
       "2    5.5.E, 5.5.F, 5.5.A, 5.5.C   \n",
       "3                           NaN   \n",
       "4                           NaN   \n",
       "..                          ...   \n",
       "708                         NaN   \n",
       "709                         NaN   \n",
       "710                         NaN   \n",
       "711                         NaN   \n",
       "712                         NaN   \n",
       "\n",
       "                               NIST SP 800-171 Control  \\\n",
       "0    3.12.1 Periodically assess the security contro...   \n",
       "1                                                  NaN   \n",
       "2                                                  NaN   \n",
       "3                                                  NaN   \n",
       "4                                                  NaN   \n",
       "..                                                 ...   \n",
       "708                                                NaN   \n",
       "709                                                NaN   \n",
       "710                                                NaN   \n",
       "711                                                NaN   \n",
       "712                                                NaN   \n",
       "\n",
       "                                    EUCS Basic Control  \\\n",
       "0    OSI-01.4, OIS-02.3,  CO-01.1,  CO-02.1,  CO-03...   \n",
       "1                                             OPS-10.1   \n",
       "2                                              CO-02.1   \n",
       "3                                                  NaN   \n",
       "4                                                  NaN   \n",
       "..                                                 ...   \n",
       "708                                                NaN   \n",
       "709                                                NaN   \n",
       "710                                                NaN   \n",
       "711                                                NaN   \n",
       "712                                                NaN   \n",
       "\n",
       "                          EUCS Substantial Control  \\\n",
       "0    OIS-01.5, CO-01.2, CO-02.2,  CO-03.3, CO-04.2   \n",
       "1                      OPS-04.2, OPS-10.2, CS-08.3   \n",
       "2                                              NaN   \n",
       "3                                              NaN   \n",
       "4                                              NaN   \n",
       "..                                             ...   \n",
       "708                                            NaN   \n",
       "709                                            NaN   \n",
       "710                                            NaN   \n",
       "711                                            NaN   \n",
       "712                                            NaN   \n",
       "\n",
       "                                     EUCS High Control  \\\n",
       "0    OIS-01.3,  ISP-02.5,  PS-05.4,  OPS-19.4,  CO-...   \n",
       "1                                                  NaN   \n",
       "2                                              CO-02.3   \n",
       "3                                                  NaN   \n",
       "4                                                  NaN   \n",
       "..                                                 ...   \n",
       "708                                                NaN   \n",
       "709                                                NaN   \n",
       "710                                                NaN   \n",
       "711                                                NaN   \n",
       "712                                                NaN   \n",
       "\n",
       "                    SecNumCloud Control                   IRAP Control  \n",
       "0    18.2.1.a, 18.2.1.b, 18.3.a, 18.4.a  1163 1563 1564 0810 0336 1493  \n",
       "1                                12.1.a                            NaN  \n",
       "2                                   NaN                            NaN  \n",
       "3                              18.2.1.a                            NaN  \n",
       "4                                   NaN                            NaN  \n",
       "..                                  ...                            ...  \n",
       "708                                 NaN                     1675, 1676  \n",
       "709                                 NaN                       664, 675  \n",
       "710                                 NaN                           1700  \n",
       "711                                 NaN                           1717  \n",
       "712                                 NaN                           1655  \n",
       "\n",
       "[713 rows x 32 columns]"
      ]
     },
     "execution_count": 3,
     "metadata": {},
     "output_type": "execute_result"
    }
   ],
   "source": [
    "cisco"
   ]
  },
  {
   "cell_type": "code",
   "execution_count": 4,
   "id": "18569c1e",
   "metadata": {},
   "outputs": [
    {
     "data": {
      "text/html": [
       "<div>\n",
       "<style scoped>\n",
       "    .dataframe tbody tr th:only-of-type {\n",
       "        vertical-align: middle;\n",
       "    }\n",
       "\n",
       "    .dataframe tbody tr th {\n",
       "        vertical-align: top;\n",
       "    }\n",
       "\n",
       "    .dataframe thead th {\n",
       "        text-align: right;\n",
       "    }\n",
       "</style>\n",
       "<table border=\"1\" class=\"dataframe\">\n",
       "  <thead>\n",
       "    <tr style=\"text-align: right;\">\n",
       "      <th></th>\n",
       "      <th>EUCS Category</th>\n",
       "      <th>EUCS Control (2022)</th>\n",
       "      <th>Code</th>\n",
       "      <th>C5.2020 GERMANY</th>\n",
       "      <th>SecNumCloud FRANCE</th>\n",
       "      <th>ISO 27002</th>\n",
       "      <th>ISO 27017</th>\n",
       "    </tr>\n",
       "  </thead>\n",
       "  <tbody>\n",
       "    <tr>\n",
       "      <th>0</th>\n",
       "      <td>A1 - Organisation of Information Security</td>\n",
       "      <td>OIS-01  - INFORMATION SECURITY MANAGEMENT SYSTEM</td>\n",
       "      <td>NaN</td>\n",
       "      <td>OIS-01</td>\n",
       "      <td>NaN</td>\n",
       "      <td>5.4\\n5.21</td>\n",
       "      <td>NaN</td>\n",
       "    </tr>\n",
       "    <tr>\n",
       "      <th>1</th>\n",
       "      <td>NaN</td>\n",
       "      <td>OIS-02  - SEGREGATION OF DUTIES</td>\n",
       "      <td>OIS-02</td>\n",
       "      <td>OIS-04</td>\n",
       "      <td>6.1\\n 6.2</td>\n",
       "      <td>5.3</td>\n",
       "      <td>CLD.6.3.1</td>\n",
       "    </tr>\n",
       "    <tr>\n",
       "      <th>2</th>\n",
       "      <td>NaN</td>\n",
       "      <td>OIS-03  - CONTACT WITH AUTHORITIES AND INTERES...</td>\n",
       "      <td>NaN</td>\n",
       "      <td>OIS-05</td>\n",
       "      <td>6.3\\n 6.4</td>\n",
       "      <td>5.5\\n5.6</td>\n",
       "      <td>CLD.6.3.1</td>\n",
       "    </tr>\n",
       "    <tr>\n",
       "      <th>3</th>\n",
       "      <td>NaN</td>\n",
       "      <td>OIS-04 - INFORMATION SECURITY IN PROJECT MANAG...</td>\n",
       "      <td>NaN</td>\n",
       "      <td>OIS-05\\nOIS-6\\nOIS-7</td>\n",
       "      <td>6.5</td>\n",
       "      <td>5.8</td>\n",
       "      <td>CLD.6.3.1</td>\n",
       "    </tr>\n",
       "    <tr>\n",
       "      <th>4</th>\n",
       "      <td>A2 - Information Security Policies</td>\n",
       "      <td>ISP-01  - GLOBAL INFORMATION SECURITY POLICY</td>\n",
       "      <td>NaN</td>\n",
       "      <td>OIS-02</td>\n",
       "      <td>5.2\\n 5.1</td>\n",
       "      <td>5.1</td>\n",
       "      <td>NaN</td>\n",
       "    </tr>\n",
       "    <tr>\n",
       "      <th>...</th>\n",
       "      <td>...</td>\n",
       "      <td>...</td>\n",
       "      <td>...</td>\n",
       "      <td>...</td>\n",
       "      <td>...</td>\n",
       "      <td>...</td>\n",
       "      <td>...</td>\n",
       "    </tr>\n",
       "    <tr>\n",
       "      <th>115</th>\n",
       "      <td>A20 - Product Security</td>\n",
       "      <td>PSS-01  - ERROR HANDLING AND LOGGING MECHANISMS</td>\n",
       "      <td>NaN</td>\n",
       "      <td>PSS-04</td>\n",
       "      <td>NaN</td>\n",
       "      <td>8.15</td>\n",
       "      <td>NaN</td>\n",
       "    </tr>\n",
       "    <tr>\n",
       "      <th>116</th>\n",
       "      <td>NaN</td>\n",
       "      <td>PSS-02  - SESSION MANAGEMENT</td>\n",
       "      <td>NaN</td>\n",
       "      <td>PSS-06</td>\n",
       "      <td>NaN</td>\n",
       "      <td>8.16</td>\n",
       "      <td>NaN</td>\n",
       "    </tr>\n",
       "    <tr>\n",
       "      <th>117</th>\n",
       "      <td>NaN</td>\n",
       "      <td>PSS-03  - SOFTWARE DEFINED NETWORKING</td>\n",
       "      <td>NaN</td>\n",
       "      <td>PSS-10</td>\n",
       "      <td>NaN</td>\n",
       "      <td>8.20\\n8.21</td>\n",
       "      <td>CLD.13.1.4</td>\n",
       "    </tr>\n",
       "    <tr>\n",
       "      <th>118</th>\n",
       "      <td>NaN</td>\n",
       "      <td>PSS-04  - IMAGES FOR VIRTUAL MACHINES AND CONT...</td>\n",
       "      <td>PSS-04</td>\n",
       "      <td>PSS-11</td>\n",
       "      <td>NaN</td>\n",
       "      <td>NaN</td>\n",
       "      <td>NaN</td>\n",
       "    </tr>\n",
       "    <tr>\n",
       "      <th>119</th>\n",
       "      <td>NaN</td>\n",
       "      <td>PSS-05  - CHOICE OF LOCATIONS FOR DATA PROCESS...</td>\n",
       "      <td>NaN</td>\n",
       "      <td>PSS-12</td>\n",
       "      <td>NaN</td>\n",
       "      <td>5.23</td>\n",
       "      <td>NaN</td>\n",
       "    </tr>\n",
       "  </tbody>\n",
       "</table>\n",
       "<p>120 rows × 7 columns</p>\n",
       "</div>"
      ],
      "text/plain": [
       "                                 EUCS Category  \\\n",
       "0    A1 - Organisation of Information Security   \n",
       "1                                          NaN   \n",
       "2                                          NaN   \n",
       "3                                          NaN   \n",
       "4           A2 - Information Security Policies   \n",
       "..                                         ...   \n",
       "115                     A20 - Product Security   \n",
       "116                                        NaN   \n",
       "117                                        NaN   \n",
       "118                                        NaN   \n",
       "119                                        NaN   \n",
       "\n",
       "                                   EUCS Control (2022)    Code  \\\n",
       "0     OIS-01  - INFORMATION SECURITY MANAGEMENT SYSTEM     NaN   \n",
       "1                      OIS-02  - SEGREGATION OF DUTIES  OIS-02   \n",
       "2    OIS-03  - CONTACT WITH AUTHORITIES AND INTERES...     NaN   \n",
       "3    OIS-04 - INFORMATION SECURITY IN PROJECT MANAG...     NaN   \n",
       "4         ISP-01  - GLOBAL INFORMATION SECURITY POLICY     NaN   \n",
       "..                                                 ...     ...   \n",
       "115    PSS-01  - ERROR HANDLING AND LOGGING MECHANISMS     NaN   \n",
       "116                       PSS-02  - SESSION MANAGEMENT     NaN   \n",
       "117              PSS-03  - SOFTWARE DEFINED NETWORKING     NaN   \n",
       "118  PSS-04  - IMAGES FOR VIRTUAL MACHINES AND CONT...  PSS-04   \n",
       "119  PSS-05  - CHOICE OF LOCATIONS FOR DATA PROCESS...     NaN   \n",
       "\n",
       "         C5.2020 GERMANY  SecNumCloud FRANCE   ISO 27002   ISO 27017   \n",
       "0                  OIS-01                 NaN   5.4\\n5.21         NaN  \n",
       "1                  OIS-04           6.1\\n 6.2         5.3   CLD.6.3.1  \n",
       "2                  OIS-05           6.3\\n 6.4    5.5\\n5.6   CLD.6.3.1  \n",
       "3    OIS-05\\nOIS-6\\nOIS-7                 6.5         5.8   CLD.6.3.1  \n",
       "4                  OIS-02           5.2\\n 5.1         5.1         NaN  \n",
       "..                    ...                 ...         ...         ...  \n",
       "115                PSS-04                 NaN        8.15         NaN  \n",
       "116                PSS-06                 NaN        8.16         NaN  \n",
       "117                PSS-10                 NaN  8.20\\n8.21  CLD.13.1.4  \n",
       "118                PSS-11                 NaN         NaN         NaN  \n",
       "119                PSS-12                 NaN        5.23         NaN  \n",
       "\n",
       "[120 rows x 7 columns]"
      ]
     },
     "execution_count": 4,
     "metadata": {},
     "output_type": "execute_result"
    }
   ],
   "source": [
    "medinaEucs"
   ]
  },
  {
   "cell_type": "code",
   "execution_count": 5,
   "id": "24cc9882",
   "metadata": {},
   "outputs": [
    {
     "data": {
      "text/html": [
       "<div>\n",
       "<style scoped>\n",
       "    .dataframe tbody tr th:only-of-type {\n",
       "        vertical-align: middle;\n",
       "    }\n",
       "\n",
       "    .dataframe tbody tr th {\n",
       "        vertical-align: top;\n",
       "    }\n",
       "\n",
       "    .dataframe thead th {\n",
       "        text-align: right;\n",
       "    }\n",
       "</style>\n",
       "<table border=\"1\" class=\"dataframe\">\n",
       "  <thead>\n",
       "    <tr style=\"text-align: right;\">\n",
       "      <th></th>\n",
       "      <th>ID</th>\n",
       "      <th>Description</th>\n",
       "      <th>Description_EN</th>\n",
       "    </tr>\n",
       "  </thead>\n",
       "  <tbody>\n",
       "    <tr>\n",
       "      <th>0</th>\n",
       "      <td>5.1.a</td>\n",
       "      <td>Le prestataire doit opérer la prestation à l'é...</td>\n",
       "      <td>The service provider must operate in the state...</td>\n",
       "    </tr>\n",
       "    <tr>\n",
       "      <th>1</th>\n",
       "      <td>5.1.b</td>\n",
       "      <td>Le prestataire doit appliquer le guide d'hygiè...</td>\n",
       "      <td>The service provider must apply the ANSSI comp...</td>\n",
       "    </tr>\n",
       "    <tr>\n",
       "      <th>2</th>\n",
       "      <td>5.2.a</td>\n",
       "      <td>Le prestataire doit documenter et mettre en œu...</td>\n",
       "      <td>The service provider must document and impleme...</td>\n",
       "    </tr>\n",
       "    <tr>\n",
       "      <th>3</th>\n",
       "      <td>5.2.b</td>\n",
       "      <td>La politique de sécurité de l'information doit...</td>\n",
       "      <td>The information security policy must identify ...</td>\n",
       "    </tr>\n",
       "    <tr>\n",
       "      <th>4</th>\n",
       "      <td>5.2.c</td>\n",
       "      <td>La politique de sécurité de l'information doit...</td>\n",
       "      <td>The information security policy must in partic...</td>\n",
       "    </tr>\n",
       "    <tr>\n",
       "      <th>...</th>\n",
       "      <td>...</td>\n",
       "      <td>...</td>\n",
       "      <td>...</td>\n",
       "    </tr>\n",
       "    <tr>\n",
       "      <th>282</th>\n",
       "      <td>3.2.e</td>\n",
       "      <td>Le commanditaire peut, conformément au process...</td>\n",
       "      <td>The sponsor may, in accordance with the qualif...</td>\n",
       "    </tr>\n",
       "    <tr>\n",
       "      <th>283</th>\n",
       "      <td>3.2.f</td>\n",
       "      <td>La qualification d'un prestataire n'atteste pa...</td>\n",
       "      <td>The qualification of a service provider does n...</td>\n",
       "    </tr>\n",
       "    <tr>\n",
       "      <th>284</th>\n",
       "      <td>3.2.g</td>\n",
       "      <td>La qualification d'un prestataire n'atteste pa...</td>\n",
       "      <td>The qualification of a service provider does n...</td>\n",
       "    </tr>\n",
       "    <tr>\n",
       "      <th>285</th>\n",
       "      <td>3.2.h</td>\n",
       "      <td>La conformité du service du prestataire au réf...</td>\n",
       "      <td>The compliance of the service provider at the ...</td>\n",
       "    </tr>\n",
       "    <tr>\n",
       "      <th>286</th>\n",
       "      <td>3.2.i</td>\n",
       "      <td>Pour l'accès aux interfaces de gestion du serv...</td>\n",
       "      <td>For access to service management interfaces, i...</td>\n",
       "    </tr>\n",
       "  </tbody>\n",
       "</table>\n",
       "<p>287 rows × 3 columns</p>\n",
       "</div>"
      ],
      "text/plain": [
       "        ID                                        Description  \\\n",
       "0    5.1.a  Le prestataire doit opérer la prestation à l'é...   \n",
       "1    5.1.b  Le prestataire doit appliquer le guide d'hygiè...   \n",
       "2    5.2.a  Le prestataire doit documenter et mettre en œu...   \n",
       "3    5.2.b  La politique de sécurité de l'information doit...   \n",
       "4    5.2.c  La politique de sécurité de l'information doit...   \n",
       "..     ...                                                ...   \n",
       "282  3.2.e  Le commanditaire peut, conformément au process...   \n",
       "283  3.2.f  La qualification d'un prestataire n'atteste pa...   \n",
       "284  3.2.g  La qualification d'un prestataire n'atteste pa...   \n",
       "285  3.2.h  La conformité du service du prestataire au réf...   \n",
       "286  3.2.i  Pour l'accès aux interfaces de gestion du serv...   \n",
       "\n",
       "                                        Description_EN  \n",
       "0    The service provider must operate in the state...  \n",
       "1    The service provider must apply the ANSSI comp...  \n",
       "2    The service provider must document and impleme...  \n",
       "3    The information security policy must identify ...  \n",
       "4    The information security policy must in partic...  \n",
       "..                                                 ...  \n",
       "282  The sponsor may, in accordance with the qualif...  \n",
       "283  The qualification of a service provider does n...  \n",
       "284  The qualification of a service provider does n...  \n",
       "285  The compliance of the service provider at the ...  \n",
       "286  For access to service management interfaces, i...  \n",
       "\n",
       "[287 rows x 3 columns]"
      ]
     },
     "execution_count": 5,
     "metadata": {},
     "output_type": "execute_result"
    }
   ],
   "source": [
    "secNumCloud"
   ]
  },
  {
   "cell_type": "code",
   "execution_count": 6,
   "id": "0a816020",
   "metadata": {},
   "outputs": [
    {
     "data": {
      "text/html": [
       "<div>\n",
       "<style scoped>\n",
       "    .dataframe tbody tr th:only-of-type {\n",
       "        vertical-align: middle;\n",
       "    }\n",
       "\n",
       "    .dataframe tbody tr th {\n",
       "        vertical-align: top;\n",
       "    }\n",
       "\n",
       "    .dataframe thead th {\n",
       "        text-align: right;\n",
       "    }\n",
       "</style>\n",
       "<table border=\"1\" class=\"dataframe\">\n",
       "  <thead>\n",
       "    <tr style=\"text-align: right;\">\n",
       "      <th></th>\n",
       "      <th>Control ID</th>\n",
       "      <th>Description</th>\n",
       "    </tr>\n",
       "  </thead>\n",
       "  <tbody>\n",
       "    <tr>\n",
       "      <th>0</th>\n",
       "      <td>org.1.1</td>\n",
       "      <td>The objectives or mission of the organization.</td>\n",
       "    </tr>\n",
       "    <tr>\n",
       "      <th>1</th>\n",
       "      <td>org.1.2</td>\n",
       "      <td>The legal and regulatory framework within whic...</td>\n",
       "    </tr>\n",
       "    <tr>\n",
       "      <th>2</th>\n",
       "      <td>org.1.3</td>\n",
       "      <td>Security roles or functions, defining for each...</td>\n",
       "    </tr>\n",
       "    <tr>\n",
       "      <th>3</th>\n",
       "      <td>org.1.4</td>\n",
       "      <td>The structure of the security management and c...</td>\n",
       "    </tr>\n",
       "    <tr>\n",
       "      <th>4</th>\n",
       "      <td>org.1.5</td>\n",
       "      <td>Guidelines for the structuring of system secur...</td>\n",
       "    </tr>\n",
       "    <tr>\n",
       "      <th>...</th>\n",
       "      <td>...</td>\n",
       "      <td>...</td>\n",
       "    </tr>\n",
       "    <tr>\n",
       "      <th>204</th>\n",
       "      <td>mp.s.3.4</td>\n",
       "      <td>Web address resolution and connection informat...</td>\n",
       "    </tr>\n",
       "    <tr>\n",
       "      <th>205</th>\n",
       "      <td>mp.s.3.5</td>\n",
       "      <td>The organization in general and the workstatio...</td>\n",
       "    </tr>\n",
       "    <tr>\n",
       "      <th>206</th>\n",
       "      <td>mp.s.3.6</td>\n",
       "      <td>It shall protect against the action of harmful...</td>\n",
       "    </tr>\n",
       "    <tr>\n",
       "      <th>207</th>\n",
       "      <td>mp.s.3.7</td>\n",
       "      <td>An executive cookie control policy shall be es...</td>\n",
       "    </tr>\n",
       "    <tr>\n",
       "      <th>208</th>\n",
       "      <td>mp.s.4.2</td>\n",
       "      <td>Technologies shall be deployed to prevent know...</td>\n",
       "    </tr>\n",
       "  </tbody>\n",
       "</table>\n",
       "<p>209 rows × 2 columns</p>\n",
       "</div>"
      ],
      "text/plain": [
       "    Control ID                                        Description\n",
       "0      org.1.1     The objectives or mission of the organization.\n",
       "1      org.1.2  The legal and regulatory framework within whic...\n",
       "2      org.1.3  Security roles or functions, defining for each...\n",
       "3      org.1.4  The structure of the security management and c...\n",
       "4      org.1.5  Guidelines for the structuring of system secur...\n",
       "..         ...                                                ...\n",
       "204   mp.s.3.4  Web address resolution and connection informat...\n",
       "205   mp.s.3.5  The organization in general and the workstatio...\n",
       "206   mp.s.3.6  It shall protect against the action of harmful...\n",
       "207   mp.s.3.7  An executive cookie control policy shall be es...\n",
       "208   mp.s.4.2  Technologies shall be deployed to prevent know...\n",
       "\n",
       "[209 rows x 2 columns]"
      ]
     },
     "execution_count": 6,
     "metadata": {},
     "output_type": "execute_result"
    }
   ],
   "source": [
    "spanishEns"
   ]
  },
  {
   "cell_type": "markdown",
   "id": "f55dd531",
   "metadata": {},
   "source": [
    "# Analizing relations"
   ]
  },
  {
   "cell_type": "code",
   "execution_count": 7,
   "id": "8c104d9c",
   "metadata": {},
   "outputs": [
    {
     "data": {
      "application/vnd.plotly.v1+json": {
       "config": {
        "plotlyServerURL": "https://plot.ly"
       },
       "data": [
        {
         "hoverinfo": "none",
         "line": {
          "color": "#888",
          "width": 0.5
         },
         "mode": "lines",
         "type": "scatter",
         "x": [
          0.3592489190790337,
          -0.6244384584374301,
          null,
          -0.6244384584374301,
          -0.6584792978558357,
          null,
          0.3592489190790337,
          -0.6584792978558357,
          null,
          -0.6244384584374301,
          0.3592489190790337,
          null,
          1.4961883880465985,
          0.3592489190790337,
          null
         ],
         "y": [
          0.12850411413778376,
          0.5541266729349127,
          null,
          0.5541266729349127,
          -0.4718042423654438,
          null,
          0.12850411413778376,
          -0.4718042423654438,
          null,
          0.5541266729349127,
          0.12850411413778376,
          null,
          0.15666218042177205,
          0.12850411413778376,
          null
         ]
        },
        {
         "hoverinfo": "text",
         "marker": {
          "color": "#FFDDC1",
          "line": {
           "color": "black",
           "width": 1.5
          },
          "showscale": false,
          "size": 25
         },
         "mode": "markers+text",
         "text": [
          "apiControls",
          "cisco",
          "medinaEucs",
          "secNumCloud",
          "spanishEns"
         ],
         "textfont": {
          "size": 14
         },
         "textposition": "bottom center",
         "type": "scatter",
         "x": [
          1.4961883880465985,
          0.3592489190790337,
          -0.6244384584374301,
          -0.6584792978558357,
          0.6373849062784395
         ],
         "y": [
          0.15666218042177205,
          0.12850411413778376,
          0.5541266729349127,
          -0.4718042423654438,
          -1.8858998824358206
         ]
        },
        {
         "mode": "text",
         "showlegend": false,
         "text": "<b>EUCS Control Codes</b>",
         "textfont": {
          "color": "gray",
          "size": 12
         },
         "textposition": "middle center",
         "type": "scatter",
         "x": [
          -0.13259476967919817
         ],
         "y": [
          0.3413153935363482
         ]
        },
        {
         "mode": "text",
         "showlegend": false,
         "text": "<b>SecNumCloud IDs</b>",
         "textfont": {
          "color": "gray",
          "size": 12
         },
         "textposition": "middle center",
         "type": "scatter",
         "x": [
          -0.6414588781466328
         ],
         "y": [
          0.04116121528473443
         ]
        },
        {
         "mode": "text",
         "showlegend": false,
         "text": "<b>SecNumCloud Control</b>",
         "textfont": {
          "color": "gray",
          "size": 12
         },
         "textposition": "middle center",
         "type": "scatter",
         "x": [
          -0.149615189388401
         ],
         "y": [
          -0.17165006411383005
         ]
        },
        {
         "mode": "text",
         "showlegend": false,
         "text": "<b>ISO 27002 References</b>",
         "textfont": {
          "color": "gray",
          "size": 12
         },
         "textposition": "middle center",
         "type": "scatter",
         "x": [
          -0.13259476967919817
         ],
         "y": [
          0.3413153935363482
         ]
        },
        {
         "mode": "text",
         "showlegend": false,
         "text": "<b>Control Names/IDs</b>",
         "textfont": {
          "color": "gray",
          "size": 12
         },
         "textposition": "middle center",
         "type": "scatter",
         "x": [
          0.9277186535628161
         ],
         "y": [
          0.1425831472797779
         ]
        }
       ],
       "layout": {
        "annotations": [
         {
          "arrowcolor": "#888",
          "arrowhead": 2,
          "arrowsize": 1,
          "arrowwidth": 1,
          "ax": 0.3592489190790337,
          "axref": "x",
          "ay": 0.12850411413778376,
          "ayref": "y",
          "showarrow": true,
          "x": -0.6244384584374301,
          "xref": "x",
          "y": 0.5541266729349127,
          "yref": "y"
         },
         {
          "arrowcolor": "#888",
          "arrowhead": 2,
          "arrowsize": 1,
          "arrowwidth": 1,
          "ax": -0.6244384584374301,
          "axref": "x",
          "ay": 0.5541266729349127,
          "ayref": "y",
          "showarrow": true,
          "x": -0.6584792978558357,
          "xref": "x",
          "y": -0.4718042423654438,
          "yref": "y"
         },
         {
          "arrowcolor": "#888",
          "arrowhead": 2,
          "arrowsize": 1,
          "arrowwidth": 1,
          "ax": 0.3592489190790337,
          "axref": "x",
          "ay": 0.12850411413778376,
          "ayref": "y",
          "showarrow": true,
          "x": -0.6584792978558357,
          "xref": "x",
          "y": -0.4718042423654438,
          "yref": "y"
         },
         {
          "arrowcolor": "#888",
          "arrowhead": 2,
          "arrowsize": 1,
          "arrowwidth": 1,
          "ax": -0.6244384584374301,
          "axref": "x",
          "ay": 0.5541266729349127,
          "ayref": "y",
          "showarrow": true,
          "x": 0.3592489190790337,
          "xref": "x",
          "y": 0.12850411413778376,
          "yref": "y"
         },
         {
          "arrowcolor": "#888",
          "arrowhead": 2,
          "arrowsize": 1,
          "arrowwidth": 1,
          "ax": 1.4961883880465985,
          "axref": "x",
          "ay": 0.15666218042177205,
          "ayref": "y",
          "showarrow": true,
          "x": 0.3592489190790337,
          "xref": "x",
          "y": 0.12850411413778376,
          "yref": "y"
         }
        ],
        "hovermode": "closest",
        "margin": {
         "b": 20,
         "l": 5,
         "r": 5,
         "t": 40
        },
        "showlegend": false,
        "template": {
         "data": {
          "bar": [
           {
            "error_x": {
             "color": "#2a3f5f"
            },
            "error_y": {
             "color": "#2a3f5f"
            },
            "marker": {
             "line": {
              "color": "#E5ECF6",
              "width": 0.5
             },
             "pattern": {
              "fillmode": "overlay",
              "size": 10,
              "solidity": 0.2
             }
            },
            "type": "bar"
           }
          ],
          "barpolar": [
           {
            "marker": {
             "line": {
              "color": "#E5ECF6",
              "width": 0.5
             },
             "pattern": {
              "fillmode": "overlay",
              "size": 10,
              "solidity": 0.2
             }
            },
            "type": "barpolar"
           }
          ],
          "carpet": [
           {
            "aaxis": {
             "endlinecolor": "#2a3f5f",
             "gridcolor": "white",
             "linecolor": "white",
             "minorgridcolor": "white",
             "startlinecolor": "#2a3f5f"
            },
            "baxis": {
             "endlinecolor": "#2a3f5f",
             "gridcolor": "white",
             "linecolor": "white",
             "minorgridcolor": "white",
             "startlinecolor": "#2a3f5f"
            },
            "type": "carpet"
           }
          ],
          "choropleth": [
           {
            "colorbar": {
             "outlinewidth": 0,
             "ticks": ""
            },
            "type": "choropleth"
           }
          ],
          "contour": [
           {
            "colorbar": {
             "outlinewidth": 0,
             "ticks": ""
            },
            "colorscale": [
             [
              0,
              "#0d0887"
             ],
             [
              0.1111111111111111,
              "#46039f"
             ],
             [
              0.2222222222222222,
              "#7201a8"
             ],
             [
              0.3333333333333333,
              "#9c179e"
             ],
             [
              0.4444444444444444,
              "#bd3786"
             ],
             [
              0.5555555555555556,
              "#d8576b"
             ],
             [
              0.6666666666666666,
              "#ed7953"
             ],
             [
              0.7777777777777778,
              "#fb9f3a"
             ],
             [
              0.8888888888888888,
              "#fdca26"
             ],
             [
              1,
              "#f0f921"
             ]
            ],
            "type": "contour"
           }
          ],
          "contourcarpet": [
           {
            "colorbar": {
             "outlinewidth": 0,
             "ticks": ""
            },
            "type": "contourcarpet"
           }
          ],
          "heatmap": [
           {
            "colorbar": {
             "outlinewidth": 0,
             "ticks": ""
            },
            "colorscale": [
             [
              0,
              "#0d0887"
             ],
             [
              0.1111111111111111,
              "#46039f"
             ],
             [
              0.2222222222222222,
              "#7201a8"
             ],
             [
              0.3333333333333333,
              "#9c179e"
             ],
             [
              0.4444444444444444,
              "#bd3786"
             ],
             [
              0.5555555555555556,
              "#d8576b"
             ],
             [
              0.6666666666666666,
              "#ed7953"
             ],
             [
              0.7777777777777778,
              "#fb9f3a"
             ],
             [
              0.8888888888888888,
              "#fdca26"
             ],
             [
              1,
              "#f0f921"
             ]
            ],
            "type": "heatmap"
           }
          ],
          "histogram": [
           {
            "marker": {
             "pattern": {
              "fillmode": "overlay",
              "size": 10,
              "solidity": 0.2
             }
            },
            "type": "histogram"
           }
          ],
          "histogram2d": [
           {
            "colorbar": {
             "outlinewidth": 0,
             "ticks": ""
            },
            "colorscale": [
             [
              0,
              "#0d0887"
             ],
             [
              0.1111111111111111,
              "#46039f"
             ],
             [
              0.2222222222222222,
              "#7201a8"
             ],
             [
              0.3333333333333333,
              "#9c179e"
             ],
             [
              0.4444444444444444,
              "#bd3786"
             ],
             [
              0.5555555555555556,
              "#d8576b"
             ],
             [
              0.6666666666666666,
              "#ed7953"
             ],
             [
              0.7777777777777778,
              "#fb9f3a"
             ],
             [
              0.8888888888888888,
              "#fdca26"
             ],
             [
              1,
              "#f0f921"
             ]
            ],
            "type": "histogram2d"
           }
          ],
          "histogram2dcontour": [
           {
            "colorbar": {
             "outlinewidth": 0,
             "ticks": ""
            },
            "colorscale": [
             [
              0,
              "#0d0887"
             ],
             [
              0.1111111111111111,
              "#46039f"
             ],
             [
              0.2222222222222222,
              "#7201a8"
             ],
             [
              0.3333333333333333,
              "#9c179e"
             ],
             [
              0.4444444444444444,
              "#bd3786"
             ],
             [
              0.5555555555555556,
              "#d8576b"
             ],
             [
              0.6666666666666666,
              "#ed7953"
             ],
             [
              0.7777777777777778,
              "#fb9f3a"
             ],
             [
              0.8888888888888888,
              "#fdca26"
             ],
             [
              1,
              "#f0f921"
             ]
            ],
            "type": "histogram2dcontour"
           }
          ],
          "mesh3d": [
           {
            "colorbar": {
             "outlinewidth": 0,
             "ticks": ""
            },
            "type": "mesh3d"
           }
          ],
          "parcoords": [
           {
            "line": {
             "colorbar": {
              "outlinewidth": 0,
              "ticks": ""
             }
            },
            "type": "parcoords"
           }
          ],
          "pie": [
           {
            "automargin": true,
            "type": "pie"
           }
          ],
          "scatter": [
           {
            "fillpattern": {
             "fillmode": "overlay",
             "size": 10,
             "solidity": 0.2
            },
            "type": "scatter"
           }
          ],
          "scatter3d": [
           {
            "line": {
             "colorbar": {
              "outlinewidth": 0,
              "ticks": ""
             }
            },
            "marker": {
             "colorbar": {
              "outlinewidth": 0,
              "ticks": ""
             }
            },
            "type": "scatter3d"
           }
          ],
          "scattercarpet": [
           {
            "marker": {
             "colorbar": {
              "outlinewidth": 0,
              "ticks": ""
             }
            },
            "type": "scattercarpet"
           }
          ],
          "scattergeo": [
           {
            "marker": {
             "colorbar": {
              "outlinewidth": 0,
              "ticks": ""
             }
            },
            "type": "scattergeo"
           }
          ],
          "scattergl": [
           {
            "marker": {
             "colorbar": {
              "outlinewidth": 0,
              "ticks": ""
             }
            },
            "type": "scattergl"
           }
          ],
          "scattermap": [
           {
            "marker": {
             "colorbar": {
              "outlinewidth": 0,
              "ticks": ""
             }
            },
            "type": "scattermap"
           }
          ],
          "scattermapbox": [
           {
            "marker": {
             "colorbar": {
              "outlinewidth": 0,
              "ticks": ""
             }
            },
            "type": "scattermapbox"
           }
          ],
          "scatterpolar": [
           {
            "marker": {
             "colorbar": {
              "outlinewidth": 0,
              "ticks": ""
             }
            },
            "type": "scatterpolar"
           }
          ],
          "scatterpolargl": [
           {
            "marker": {
             "colorbar": {
              "outlinewidth": 0,
              "ticks": ""
             }
            },
            "type": "scatterpolargl"
           }
          ],
          "scatterternary": [
           {
            "marker": {
             "colorbar": {
              "outlinewidth": 0,
              "ticks": ""
             }
            },
            "type": "scatterternary"
           }
          ],
          "surface": [
           {
            "colorbar": {
             "outlinewidth": 0,
             "ticks": ""
            },
            "colorscale": [
             [
              0,
              "#0d0887"
             ],
             [
              0.1111111111111111,
              "#46039f"
             ],
             [
              0.2222222222222222,
              "#7201a8"
             ],
             [
              0.3333333333333333,
              "#9c179e"
             ],
             [
              0.4444444444444444,
              "#bd3786"
             ],
             [
              0.5555555555555556,
              "#d8576b"
             ],
             [
              0.6666666666666666,
              "#ed7953"
             ],
             [
              0.7777777777777778,
              "#fb9f3a"
             ],
             [
              0.8888888888888888,
              "#fdca26"
             ],
             [
              1,
              "#f0f921"
             ]
            ],
            "type": "surface"
           }
          ],
          "table": [
           {
            "cells": {
             "fill": {
              "color": "#EBF0F8"
             },
             "line": {
              "color": "white"
             }
            },
            "header": {
             "fill": {
              "color": "#C8D4E3"
             },
             "line": {
              "color": "white"
             }
            },
            "type": "table"
           }
          ]
         },
         "layout": {
          "annotationdefaults": {
           "arrowcolor": "#2a3f5f",
           "arrowhead": 0,
           "arrowwidth": 1
          },
          "autotypenumbers": "strict",
          "coloraxis": {
           "colorbar": {
            "outlinewidth": 0,
            "ticks": ""
           }
          },
          "colorscale": {
           "diverging": [
            [
             0,
             "#8e0152"
            ],
            [
             0.1,
             "#c51b7d"
            ],
            [
             0.2,
             "#de77ae"
            ],
            [
             0.3,
             "#f1b6da"
            ],
            [
             0.4,
             "#fde0ef"
            ],
            [
             0.5,
             "#f7f7f7"
            ],
            [
             0.6,
             "#e6f5d0"
            ],
            [
             0.7,
             "#b8e186"
            ],
            [
             0.8,
             "#7fbc41"
            ],
            [
             0.9,
             "#4d9221"
            ],
            [
             1,
             "#276419"
            ]
           ],
           "sequential": [
            [
             0,
             "#0d0887"
            ],
            [
             0.1111111111111111,
             "#46039f"
            ],
            [
             0.2222222222222222,
             "#7201a8"
            ],
            [
             0.3333333333333333,
             "#9c179e"
            ],
            [
             0.4444444444444444,
             "#bd3786"
            ],
            [
             0.5555555555555556,
             "#d8576b"
            ],
            [
             0.6666666666666666,
             "#ed7953"
            ],
            [
             0.7777777777777778,
             "#fb9f3a"
            ],
            [
             0.8888888888888888,
             "#fdca26"
            ],
            [
             1,
             "#f0f921"
            ]
           ],
           "sequentialminus": [
            [
             0,
             "#0d0887"
            ],
            [
             0.1111111111111111,
             "#46039f"
            ],
            [
             0.2222222222222222,
             "#7201a8"
            ],
            [
             0.3333333333333333,
             "#9c179e"
            ],
            [
             0.4444444444444444,
             "#bd3786"
            ],
            [
             0.5555555555555556,
             "#d8576b"
            ],
            [
             0.6666666666666666,
             "#ed7953"
            ],
            [
             0.7777777777777778,
             "#fb9f3a"
            ],
            [
             0.8888888888888888,
             "#fdca26"
            ],
            [
             1,
             "#f0f921"
            ]
           ]
          },
          "colorway": [
           "#636efa",
           "#EF553B",
           "#00cc96",
           "#ab63fa",
           "#FFA15A",
           "#19d3f3",
           "#FF6692",
           "#B6E880",
           "#FF97FF",
           "#FECB52"
          ],
          "font": {
           "color": "#2a3f5f"
          },
          "geo": {
           "bgcolor": "white",
           "lakecolor": "white",
           "landcolor": "#E5ECF6",
           "showlakes": true,
           "showland": true,
           "subunitcolor": "white"
          },
          "hoverlabel": {
           "align": "left"
          },
          "hovermode": "closest",
          "mapbox": {
           "style": "light"
          },
          "paper_bgcolor": "white",
          "plot_bgcolor": "#E5ECF6",
          "polar": {
           "angularaxis": {
            "gridcolor": "white",
            "linecolor": "white",
            "ticks": ""
           },
           "bgcolor": "#E5ECF6",
           "radialaxis": {
            "gridcolor": "white",
            "linecolor": "white",
            "ticks": ""
           }
          },
          "scene": {
           "xaxis": {
            "backgroundcolor": "#E5ECF6",
            "gridcolor": "white",
            "gridwidth": 2,
            "linecolor": "white",
            "showbackground": true,
            "ticks": "",
            "zerolinecolor": "white"
           },
           "yaxis": {
            "backgroundcolor": "#E5ECF6",
            "gridcolor": "white",
            "gridwidth": 2,
            "linecolor": "white",
            "showbackground": true,
            "ticks": "",
            "zerolinecolor": "white"
           },
           "zaxis": {
            "backgroundcolor": "#E5ECF6",
            "gridcolor": "white",
            "gridwidth": 2,
            "linecolor": "white",
            "showbackground": true,
            "ticks": "",
            "zerolinecolor": "white"
           }
          },
          "shapedefaults": {
           "line": {
            "color": "#2a3f5f"
           }
          },
          "ternary": {
           "aaxis": {
            "gridcolor": "white",
            "linecolor": "white",
            "ticks": ""
           },
           "baxis": {
            "gridcolor": "white",
            "linecolor": "white",
            "ticks": ""
           },
           "bgcolor": "#E5ECF6",
           "caxis": {
            "gridcolor": "white",
            "linecolor": "white",
            "ticks": ""
           }
          },
          "title": {
           "x": 0.05
          },
          "xaxis": {
           "automargin": true,
           "gridcolor": "white",
           "linecolor": "white",
           "ticks": "",
           "title": {
            "standoff": 15
           },
           "zerolinecolor": "white",
           "zerolinewidth": 2
          },
          "yaxis": {
           "automargin": true,
           "gridcolor": "white",
           "linecolor": "white",
           "ticks": "",
           "title": {
            "standoff": 15
           },
           "zerolinecolor": "white",
           "zerolinewidth": 2
          }
         }
        },
        "title": {
         "font": {
          "size": 16
         },
         "text": "Relazioni tra DataFrame (Plotly)"
        },
        "xaxis": {
         "showgrid": false,
         "showticklabels": false,
         "zeroline": false
        },
        "yaxis": {
         "showgrid": false,
         "showticklabels": false,
         "zeroline": false
        }
       }
      }
     },
     "metadata": {},
     "output_type": "display_data"
    }
   ],
   "source": [
    "import pandas as pd\n",
    "import plotly.graph_objects as go\n",
    "import igraph as ig\n",
    "\n",
    "# Creazione del grafo con igraph\n",
    "g = ig.Graph(directed=True)\n",
    "\n",
    "# Aggiunta nodi (dataframe)\n",
    "dataframes = [\"apiControls\", \"cisco\", \"medinaEucs\", \"secNumCloud\", \"spanishEns\"]\n",
    "g.add_vertices(dataframes)\n",
    "g.vs[\"label\"] = dataframes\n",
    "\n",
    "# Aggiunta relazioni (edge) con descrizioni\n",
    "relations = [\n",
    "    (\"cisco\", \"medinaEucs\", \"EUCS Control Codes\"),\n",
    "    (\"medinaEucs\", \"secNumCloud\", \"SecNumCloud IDs\"),\n",
    "    (\"cisco\", \"secNumCloud\", \"SecNumCloud Control\"),\n",
    "    (\"medinaEucs\", \"cisco\", \"ISO 27002 References\"),\n",
    "    (\"apiControls\", \"cisco\", \"Control Names/IDs\")\n",
    "]\n",
    "for src, dst, label in relations:\n",
    "    g.add_edge(g.vs.find(src).index, g.vs.find(dst).index, label=label)\n",
    "\n",
    "# Calcola il layout del grafo\n",
    "layout = g.layout(\"kk\")\n",
    "pos = {name: layout[i] for i, name in enumerate(g.vs[\"label\"])}\n",
    "\n",
    "# Crea liste per le posizioni dei nodi\n",
    "edge_x = []\n",
    "edge_y = []\n",
    "for edge in g.es:\n",
    "    start_node = g.vs[edge.source][\"label\"]\n",
    "    end_node = g.vs[edge.target][\"label\"]\n",
    "    x0, y0 = pos[start_node]\n",
    "    x1, y1 = pos[end_node]\n",
    "    edge_x.extend([x0, x1, None])\n",
    "    edge_y.extend([y0, y1, None])\n",
    "\n",
    "# Traccia gli archi\n",
    "edge_trace = go.Scatter(\n",
    "    x=edge_x, y=edge_y,\n",
    "    line=dict(width=0.5, color='#888'),\n",
    "    hoverinfo='none',\n",
    "    mode='lines')\n",
    "\n",
    "# Traccia i nodi\n",
    "node_x = [pos[name][0] for name in dataframes]\n",
    "node_y = [pos[name][1] for name in dataframes]\n",
    "node_trace = go.Scatter(\n",
    "    x=node_x, y=node_y,\n",
    "    mode='markers+text',\n",
    "    hoverinfo='text',\n",
    "    text=dataframes,\n",
    "    textposition=\"bottom center\",\n",
    "    textfont=dict(size=14),\n",
    "    marker=dict(\n",
    "        showscale=False,\n",
    "        size=25,\n",
    "        color='#FFDDC1',\n",
    "        line=dict(color='black', width=1.5)))\n",
    "\n",
    "# Crea le etichette degli archi\n",
    "edge_labels = []\n",
    "for edge in g.es:\n",
    "    start_node = g.vs[edge.source][\"label\"]\n",
    "    end_node = g.vs[edge.target][\"label\"]\n",
    "    label = edge[\"label\"]\n",
    "    x0, y0 = pos[start_node]\n",
    "    x1, y1 = pos[end_node]\n",
    "    edge_labels.append(go.Scatter(\n",
    "        x=[(x0+x1)/2], y=[(y0+y1)/2],\n",
    "        mode='text',\n",
    "        text=f'<b>{label}</b>',  # Modifica qui per il grassetto\n",
    "        textposition=\"middle center\",\n",
    "        showlegend=False,\n",
    "        textfont=dict(size=12, color=\"gray\")))\n",
    "\n",
    "# Combina tutti i tracciati\n",
    "fig = go.Figure(data=[edge_trace, node_trace] + edge_labels,\n",
    "                layout=go.Layout(\n",
    "                    title={\n",
    "                        'text': 'Relazioni tra DataFrame (Plotly)',\n",
    "                        'font': {'size': 16}\n",
    "                    },\n",
    "                    showlegend=False,\n",
    "                    hovermode='closest',\n",
    "                    margin=dict(b=20, l=5, r=5, t=40),\n",
    "                    annotations=[dict(\n",
    "                        ax=edge_x[i*3], ay=edge_y[i*3],\n",
    "                        axref='x', ayref='y',\n",
    "                        x=edge_x[i*3+1], y=edge_y[i*3+1],\n",
    "                        xref='x', yref='y',\n",
    "                        showarrow=True,\n",
    "                        arrowhead=2,\n",
    "                        arrowsize=1,\n",
    "                        arrowwidth=1,\n",
    "                        arrowcolor='#888') for i in range(len(relations))],\n",
    "                    xaxis=dict(showgrid=False, zeroline=False, showticklabels=False),\n",
    "                    yaxis=dict(showgrid=False, zeroline=False, showticklabels=False)))\n",
    "\n",
    "fig.show()"
   ]
  },
  {
   "cell_type": "markdown",
   "id": "dcd33f91",
   "metadata": {},
   "source": [
    "# Clean and merge all data in one dataframe"
   ]
  },
  {
   "cell_type": "code",
   "execution_count": 8,
   "id": "9ffc382d",
   "metadata": {},
   "outputs": [
    {
     "name": "stderr",
     "output_type": "stream",
     "text": [
      "/tmp/ipykernel_48181/995558024.py:39: UserWarning:\n",
      "\n",
      "This pattern is interpreted as a regular expression, and has match groups. To actually get the groups, use str.extract.\n",
      "\n"
     ]
    },
    {
     "name": "stdout",
     "output_type": "stream",
     "text": [
      "Dataframe unificato creato con 160 record\n"
     ]
    }
   ],
   "source": [
    "import pandas as pd\n",
    "import numpy as np\n",
    "\n",
    "# Funzione migliorata per gestire valori multipli\n",
    "def clean_split(column, delimiter=','):\n",
    "    return column.fillna('').apply(\n",
    "        lambda x: [item.strip() for item in str(x).split(delimiter) if item.strip()]\n",
    "    )\n",
    "\n",
    "\n",
    "# Preprocessamento apiControls\n",
    "api_controls = apiControls[['uuid', 'code', 'name', 'descriptionExtended']].copy()\n",
    "\n",
    "# Preprocessamento cisco - gestione colonne EUCS\n",
    "cisco['EUCS_Combined'] = (\n",
    "    cisco.get('EUCS Basic Control', pd.Series('')).fillna('') + ',' + \n",
    "    cisco.get('EUCS Substantial Control', pd.Series('')).fillna('') + ',' + \n",
    "    cisco.get('EUCS High Control', pd.Series('')).fillna('')\n",
    ")\n",
    "cisco['EUCS_Codes'] = clean_split(cisco['EUCS_Combined'])\n",
    "cisco['SecNumCloud_Codes'] = clean_split(cisco.get('SecNumCloud Control', pd.Series('')))\n",
    "\n",
    "# Preprocessamento medinaEucs - gestione nomi colonne alternativi\n",
    "secnumcloud_col = next((col for col in medinaEucs.columns if 'SecNumCloud' in col), None)\n",
    "medinaEucs['EUCS_Code'] = medinaEucs['EUCS Control (2022)'].str.extract(r'^(\\w+-\\d+)')\n",
    "\n",
    "if secnumcloud_col:\n",
    "    medinaEucs['SecNumCloud_FR'] = clean_split(medinaEucs[secnumcloud_col], delimiter='\\\\n')\n",
    "else:\n",
    "    medinaEucs['SecNumCloud_FR'] = [[] for _ in range(len(medinaEucs))]\n",
    "\n",
    "# Creazione dataframe unificato\n",
    "unified = []\n",
    "\n",
    "for _, api_row in api_controls.iterrows():\n",
    "    # 1. Trova corrispondenze in cisco per nome controllo\n",
    "    if 'Control Title' in cisco.columns:\n",
    "        cisco_matches = cisco[\n",
    "            cisco['Control Title'].str.contains(api_row['name'], case=False, na=False)\n",
    "        ]\n",
    "    else:\n",
    "        cisco_matches = pd.DataFrame()\n",
    "\n",
    "    if not cisco_matches.empty:\n",
    "        for _, cisco_row in cisco_matches.iterrows():\n",
    "            # 2. Collega EUCS codes a medinaEucs\n",
    "            for eucs_code in cisco_row['EUCS_Codes']:\n",
    "                base_code = eucs_code.split('.')[0]  # Estrai codice base\n",
    "                if 'EUCS_Code' in medinaEucs.columns:\n",
    "                    medina_match = medinaEucs[medinaEucs['EUCS_Code'] == base_code]\n",
    "                else:\n",
    "                    medina_match = pd.DataFrame()\n",
    "\n",
    "                if not medina_match.empty:\n",
    "                    # 3. Collega SecNumCloud da medinaEucs\n",
    "                    for sec_list in medina_match['SecNumCloud_FR']:\n",
    "                        for sec_id in sec_list:\n",
    "                            if 'ID' in secNumCloud.columns:\n",
    "                                sec_match = secNumCloud[secNumCloud['ID'] == sec_id]\n",
    "                                if not sec_match.empty:\n",
    "                                    record = {\n",
    "                                        'api_uuid': api_row['uuid'],\n",
    "                                        'api_name': api_row['name'],\n",
    "                                        'cisco_title': cisco_row.get('Control Title', ''),\n",
    "                                        'eucs_code': eucs_code,\n",
    "                                        'secNumCloud_id': sec_id,\n",
    "                                        'description': f\"{api_row.get('descriptionExtended', '')} | {cisco_row.get('Control Wording', '')} | {sec_match['Description_EN'].values[0]}\",\n",
    "                                        'source': 'cisco+medina+secNumCloud'\n",
    "                                    }\n",
    "                                    unified.append(record)\n",
    "\n",
    "                # 4. Collega direttamente SecNumCloud da cisco\n",
    "                for sec_id in cisco_row['SecNumCloud_Codes']:\n",
    "                    if 'ID' in secNumCloud.columns:\n",
    "                        sec_match = secNumCloud[secNumCloud['ID'] == sec_id]\n",
    "                        if not sec_match.empty:\n",
    "                            record = {\n",
    "                                'api_uuid': api_row['uuid'],\n",
    "                                'api_name': api_row['name'],\n",
    "                                'cisco_title': cisco_row.get('Control Title', ''),\n",
    "                                'eucs_code': eucs_code,\n",
    "                                'secNumCloud_id': sec_id,\n",
    "                                'description': f\"{api_row.get('descriptionExtended', '')} | {cisco_row.get('Control Wording', '')} | {sec_match['Description_EN'].values[0]}\",\n",
    "                                'source': 'cisco+secNumCloud'\n",
    "                            }\n",
    "                            unified.append(record)\n",
    "\n",
    "# Crea dataframe finale\n",
    "if unified:\n",
    "    unified_df = pd.DataFrame(unified).drop_duplicates()\n",
    "    \n",
    "    # Aggiunta eventuale di spanishEns (se si trovano collegamenti)\n",
    "    # (da implementare in base alle esigenze specifiche)\n",
    "    \n",
    "    print(f\"Dataframe unificato creato con {len(unified_df)} record\")\n",
    "    unified_df.to_csv('Output/unified_data.csv', index=False)\n",
    "\n",
    "else:\n",
    "    print(\"Nessun record trovato - verificare i dati di input\")\n",
    "\n"
   ]
  },
  {
   "cell_type": "code",
   "execution_count": 9,
   "id": "fa79340b",
   "metadata": {},
   "outputs": [
    {
     "data": {
      "text/html": [
       "<div>\n",
       "<style scoped>\n",
       "    .dataframe tbody tr th:only-of-type {\n",
       "        vertical-align: middle;\n",
       "    }\n",
       "\n",
       "    .dataframe tbody tr th {\n",
       "        vertical-align: top;\n",
       "    }\n",
       "\n",
       "    .dataframe thead th {\n",
       "        text-align: right;\n",
       "    }\n",
       "</style>\n",
       "<table border=\"1\" class=\"dataframe\">\n",
       "  <thead>\n",
       "    <tr style=\"text-align: right;\">\n",
       "      <th></th>\n",
       "      <th>api_uuid</th>\n",
       "      <th>api_name</th>\n",
       "      <th>cisco_title</th>\n",
       "      <th>eucs_code</th>\n",
       "      <th>secNumCloud_id</th>\n",
       "      <th>description</th>\n",
       "      <th>source</th>\n",
       "    </tr>\n",
       "  </thead>\n",
       "  <tbody>\n",
       "    <tr>\n",
       "      <th>0</th>\n",
       "      <td>00a8fdd7-cafb-42bd-b2a4-2ae57211e789</td>\n",
       "      <td>INFORMATION SECURITY MANAGEMENT SYSTEM</td>\n",
       "      <td>Privacy Information Security Management System...</td>\n",
       "      <td>RM-01.1</td>\n",
       "      <td>5.3.a</td>\n",
       "      <td>None | A documented Privacy Information Securi...</td>\n",
       "      <td>cisco+secNumCloud</td>\n",
       "    </tr>\n",
       "    <tr>\n",
       "      <th>1</th>\n",
       "      <td>00a8fdd7-cafb-42bd-b2a4-2ae57211e789</td>\n",
       "      <td>INFORMATION SECURITY MANAGEMENT SYSTEM</td>\n",
       "      <td>Privacy Information Security Management System...</td>\n",
       "      <td>RM-01.1</td>\n",
       "      <td>5.3.b</td>\n",
       "      <td>None | A documented Privacy Information Securi...</td>\n",
       "      <td>cisco+secNumCloud</td>\n",
       "    </tr>\n",
       "    <tr>\n",
       "      <th>2</th>\n",
       "      <td>00a8fdd7-cafb-42bd-b2a4-2ae57211e789</td>\n",
       "      <td>INFORMATION SECURITY MANAGEMENT SYSTEM</td>\n",
       "      <td>Privacy Information Security Management System...</td>\n",
       "      <td>RM-01.1</td>\n",
       "      <td>5.3.c</td>\n",
       "      <td>None | A documented Privacy Information Securi...</td>\n",
       "      <td>cisco+secNumCloud</td>\n",
       "    </tr>\n",
       "    <tr>\n",
       "      <th>3</th>\n",
       "      <td>00a8fdd7-cafb-42bd-b2a4-2ae57211e789</td>\n",
       "      <td>INFORMATION SECURITY MANAGEMENT SYSTEM</td>\n",
       "      <td>Privacy Information Security Management System...</td>\n",
       "      <td>RM-01.2</td>\n",
       "      <td>5.3.a</td>\n",
       "      <td>None | A documented Privacy Information Securi...</td>\n",
       "      <td>cisco+secNumCloud</td>\n",
       "    </tr>\n",
       "    <tr>\n",
       "      <th>4</th>\n",
       "      <td>00a8fdd7-cafb-42bd-b2a4-2ae57211e789</td>\n",
       "      <td>INFORMATION SECURITY MANAGEMENT SYSTEM</td>\n",
       "      <td>Privacy Information Security Management System...</td>\n",
       "      <td>RM-01.2</td>\n",
       "      <td>5.3.b</td>\n",
       "      <td>None | A documented Privacy Information Securi...</td>\n",
       "      <td>cisco+secNumCloud</td>\n",
       "    </tr>\n",
       "    <tr>\n",
       "      <th>...</th>\n",
       "      <td>...</td>\n",
       "      <td>...</td>\n",
       "      <td>...</td>\n",
       "      <td>...</td>\n",
       "      <td>...</td>\n",
       "      <td>...</td>\n",
       "      <td>...</td>\n",
       "    </tr>\n",
       "    <tr>\n",
       "      <th>155</th>\n",
       "      <td>c7624b5b-781a-4890-b0cc-dc8c45bdf39a</td>\n",
       "      <td>Version Control</td>\n",
       "      <td>Version Control</td>\n",
       "      <td>CCM-02.3</td>\n",
       "      <td>14.2.c</td>\n",
       "      <td>Version control procedures provide appropriate...</td>\n",
       "      <td>cisco+secNumCloud</td>\n",
       "    </tr>\n",
       "    <tr>\n",
       "      <th>156</th>\n",
       "      <td>c7624b5b-781a-4890-b0cc-dc8c45bdf39a</td>\n",
       "      <td>Version Control</td>\n",
       "      <td>Version Control</td>\n",
       "      <td>CCM-03.9</td>\n",
       "      <td>14.2.c</td>\n",
       "      <td>Version control procedures provide appropriate...</td>\n",
       "      <td>cisco+secNumCloud</td>\n",
       "    </tr>\n",
       "    <tr>\n",
       "      <th>157</th>\n",
       "      <td>c7624b5b-781a-4890-b0cc-dc8c45bdf39a</td>\n",
       "      <td>Version Control</td>\n",
       "      <td>Version Control</td>\n",
       "      <td>CCM-06.2</td>\n",
       "      <td>14.2.c</td>\n",
       "      <td>Version control procedures provide appropriate...</td>\n",
       "      <td>cisco+secNumCloud</td>\n",
       "    </tr>\n",
       "    <tr>\n",
       "      <th>158</th>\n",
       "      <td>c7624b5b-781a-4890-b0cc-dc8c45bdf39a</td>\n",
       "      <td>Version Control</td>\n",
       "      <td>Version Control</td>\n",
       "      <td>CCM-06.3</td>\n",
       "      <td>14.2.c</td>\n",
       "      <td>Version control procedures provide appropriate...</td>\n",
       "      <td>cisco+secNumCloud</td>\n",
       "    </tr>\n",
       "    <tr>\n",
       "      <th>159</th>\n",
       "      <td>c7624b5b-781a-4890-b0cc-dc8c45bdf39a</td>\n",
       "      <td>Version Control</td>\n",
       "      <td>Version Control</td>\n",
       "      <td>CO-03.5</td>\n",
       "      <td>14.2.c</td>\n",
       "      <td>Version control procedures provide appropriate...</td>\n",
       "      <td>cisco+secNumCloud</td>\n",
       "    </tr>\n",
       "  </tbody>\n",
       "</table>\n",
       "<p>160 rows × 7 columns</p>\n",
       "</div>"
      ],
      "text/plain": [
       "                                 api_uuid  \\\n",
       "0    00a8fdd7-cafb-42bd-b2a4-2ae57211e789   \n",
       "1    00a8fdd7-cafb-42bd-b2a4-2ae57211e789   \n",
       "2    00a8fdd7-cafb-42bd-b2a4-2ae57211e789   \n",
       "3    00a8fdd7-cafb-42bd-b2a4-2ae57211e789   \n",
       "4    00a8fdd7-cafb-42bd-b2a4-2ae57211e789   \n",
       "..                                    ...   \n",
       "155  c7624b5b-781a-4890-b0cc-dc8c45bdf39a   \n",
       "156  c7624b5b-781a-4890-b0cc-dc8c45bdf39a   \n",
       "157  c7624b5b-781a-4890-b0cc-dc8c45bdf39a   \n",
       "158  c7624b5b-781a-4890-b0cc-dc8c45bdf39a   \n",
       "159  c7624b5b-781a-4890-b0cc-dc8c45bdf39a   \n",
       "\n",
       "                                   api_name  \\\n",
       "0    INFORMATION SECURITY MANAGEMENT SYSTEM   \n",
       "1    INFORMATION SECURITY MANAGEMENT SYSTEM   \n",
       "2    INFORMATION SECURITY MANAGEMENT SYSTEM   \n",
       "3    INFORMATION SECURITY MANAGEMENT SYSTEM   \n",
       "4    INFORMATION SECURITY MANAGEMENT SYSTEM   \n",
       "..                                      ...   \n",
       "155                         Version Control   \n",
       "156                         Version Control   \n",
       "157                         Version Control   \n",
       "158                         Version Control   \n",
       "159                         Version Control   \n",
       "\n",
       "                                           cisco_title eucs_code  \\\n",
       "0    Privacy Information Security Management System...   RM-01.1   \n",
       "1    Privacy Information Security Management System...   RM-01.1   \n",
       "2    Privacy Information Security Management System...   RM-01.1   \n",
       "3    Privacy Information Security Management System...   RM-01.2   \n",
       "4    Privacy Information Security Management System...   RM-01.2   \n",
       "..                                                 ...       ...   \n",
       "155                                    Version Control  CCM-02.3   \n",
       "156                                    Version Control  CCM-03.9   \n",
       "157                                    Version Control  CCM-06.2   \n",
       "158                                    Version Control  CCM-06.3   \n",
       "159                                    Version Control   CO-03.5   \n",
       "\n",
       "    secNumCloud_id                                        description  \\\n",
       "0            5.3.a  None | A documented Privacy Information Securi...   \n",
       "1            5.3.b  None | A documented Privacy Information Securi...   \n",
       "2            5.3.c  None | A documented Privacy Information Securi...   \n",
       "3            5.3.a  None | A documented Privacy Information Securi...   \n",
       "4            5.3.b  None | A documented Privacy Information Securi...   \n",
       "..             ...                                                ...   \n",
       "155         14.2.c  Version control procedures provide appropriate...   \n",
       "156         14.2.c  Version control procedures provide appropriate...   \n",
       "157         14.2.c  Version control procedures provide appropriate...   \n",
       "158         14.2.c  Version control procedures provide appropriate...   \n",
       "159         14.2.c  Version control procedures provide appropriate...   \n",
       "\n",
       "                source  \n",
       "0    cisco+secNumCloud  \n",
       "1    cisco+secNumCloud  \n",
       "2    cisco+secNumCloud  \n",
       "3    cisco+secNumCloud  \n",
       "4    cisco+secNumCloud  \n",
       "..                 ...  \n",
       "155  cisco+secNumCloud  \n",
       "156  cisco+secNumCloud  \n",
       "157  cisco+secNumCloud  \n",
       "158  cisco+secNumCloud  \n",
       "159  cisco+secNumCloud  \n",
       "\n",
       "[160 rows x 7 columns]"
      ]
     },
     "execution_count": 9,
     "metadata": {},
     "output_type": "execute_result"
    }
   ],
   "source": [
    "unified_df"
   ]
  }
 ],
 "metadata": {
  "kernelspec": {
   "display_name": ".venv",
   "language": "python",
   "name": "python3"
  },
  "language_info": {
   "codemirror_mode": {
    "name": "ipython",
    "version": 3
   },
   "file_extension": ".py",
   "mimetype": "text/x-python",
   "name": "python",
   "nbconvert_exporter": "python",
   "pygments_lexer": "ipython3",
   "version": "3.12.3"
  }
 },
 "nbformat": 4,
 "nbformat_minor": 5
}
